{
 "cells": [
  {
   "cell_type": "code",
   "execution_count": 12,
   "metadata": {},
   "outputs": [],
   "source": [
    "import matplotlib.pyplot as plt\n",
    "import seaborn as sns\n",
    "import pandas as pd\n",
    "import numpy as np"
   ]
  },
  {
   "cell_type": "code",
   "execution_count": 13,
   "metadata": {},
   "outputs": [
    {
     "data": {
      "text/html": [
       "<div>\n",
       "<style scoped>\n",
       "    .dataframe tbody tr th:only-of-type {\n",
       "        vertical-align: middle;\n",
       "    }\n",
       "\n",
       "    .dataframe tbody tr th {\n",
       "        vertical-align: top;\n",
       "    }\n",
       "\n",
       "    .dataframe thead th {\n",
       "        text-align: right;\n",
       "    }\n",
       "</style>\n",
       "<table border=\"1\" class=\"dataframe\">\n",
       "  <thead>\n",
       "    <tr style=\"text-align: right;\">\n",
       "      <th></th>\n",
       "      <th>Dataset</th>\n",
       "      <th>Data Types</th>\n",
       "      <th>Default Task</th>\n",
       "      <th>Target Variable 1</th>\n",
       "      <th>Target Variable 2</th>\n",
       "      <th># Instances</th>\n",
       "      <th># Attributes</th>\n",
       "      <th>Missing Values</th>\n",
       "    </tr>\n",
       "  </thead>\n",
       "  <tbody>\n",
       "    <tr>\n",
       "      <th>0</th>\n",
       "      <td>anomaly</td>\n",
       "      <td>Multivariate</td>\n",
       "      <td>Anomaly Detection</td>\n",
       "      <td>None</td>\n",
       "      <td>None</td>\n",
       "      <td>1000</td>\n",
       "      <td>10</td>\n",
       "      <td>N</td>\n",
       "    </tr>\n",
       "    <tr>\n",
       "      <th>1</th>\n",
       "      <td>france</td>\n",
       "      <td>Multivariate</td>\n",
       "      <td>Association Rule Mining</td>\n",
       "      <td>InvoiceNo</td>\n",
       "      <td>Description</td>\n",
       "      <td>8557</td>\n",
       "      <td>8</td>\n",
       "      <td>N</td>\n",
       "    </tr>\n",
       "    <tr>\n",
       "      <th>2</th>\n",
       "      <td>germany</td>\n",
       "      <td>Multivariate</td>\n",
       "      <td>Association Rule Mining</td>\n",
       "      <td>InvoiceNo</td>\n",
       "      <td>Description</td>\n",
       "      <td>9495</td>\n",
       "      <td>8</td>\n",
       "      <td>N</td>\n",
       "    </tr>\n",
       "    <tr>\n",
       "      <th>3</th>\n",
       "      <td>bank</td>\n",
       "      <td>Multivariate</td>\n",
       "      <td>Classification (Binary)</td>\n",
       "      <td>deposit</td>\n",
       "      <td>None</td>\n",
       "      <td>45211</td>\n",
       "      <td>17</td>\n",
       "      <td>N</td>\n",
       "    </tr>\n",
       "    <tr>\n",
       "      <th>4</th>\n",
       "      <td>blood</td>\n",
       "      <td>Multivariate</td>\n",
       "      <td>Classification (Binary)</td>\n",
       "      <td>Class</td>\n",
       "      <td>None</td>\n",
       "      <td>748</td>\n",
       "      <td>5</td>\n",
       "      <td>N</td>\n",
       "    </tr>\n",
       "    <tr>\n",
       "      <th>5</th>\n",
       "      <td>cancer</td>\n",
       "      <td>Multivariate</td>\n",
       "      <td>Classification (Binary)</td>\n",
       "      <td>Class</td>\n",
       "      <td>None</td>\n",
       "      <td>683</td>\n",
       "      <td>10</td>\n",
       "      <td>N</td>\n",
       "    </tr>\n",
       "    <tr>\n",
       "      <th>6</th>\n",
       "      <td>credit</td>\n",
       "      <td>Multivariate</td>\n",
       "      <td>Classification (Binary)</td>\n",
       "      <td>default</td>\n",
       "      <td>None</td>\n",
       "      <td>24000</td>\n",
       "      <td>24</td>\n",
       "      <td>N</td>\n",
       "    </tr>\n",
       "    <tr>\n",
       "      <th>7</th>\n",
       "      <td>diabetes</td>\n",
       "      <td>Multivariate</td>\n",
       "      <td>Classification (Binary)</td>\n",
       "      <td>Class variable</td>\n",
       "      <td>None</td>\n",
       "      <td>768</td>\n",
       "      <td>9</td>\n",
       "      <td>N</td>\n",
       "    </tr>\n",
       "    <tr>\n",
       "      <th>8</th>\n",
       "      <td>electrical_grid</td>\n",
       "      <td>Multivariate</td>\n",
       "      <td>Classification (Binary)</td>\n",
       "      <td>stabf</td>\n",
       "      <td>None</td>\n",
       "      <td>10000</td>\n",
       "      <td>14</td>\n",
       "      <td>N</td>\n",
       "    </tr>\n",
       "    <tr>\n",
       "      <th>9</th>\n",
       "      <td>employee</td>\n",
       "      <td>Multivariate</td>\n",
       "      <td>Classification (Binary)</td>\n",
       "      <td>left</td>\n",
       "      <td>None</td>\n",
       "      <td>14999</td>\n",
       "      <td>10</td>\n",
       "      <td>N</td>\n",
       "    </tr>\n",
       "    <tr>\n",
       "      <th>10</th>\n",
       "      <td>heart</td>\n",
       "      <td>Multivariate</td>\n",
       "      <td>Classification (Binary)</td>\n",
       "      <td>DEATH</td>\n",
       "      <td>None</td>\n",
       "      <td>200</td>\n",
       "      <td>16</td>\n",
       "      <td>N</td>\n",
       "    </tr>\n",
       "    <tr>\n",
       "      <th>11</th>\n",
       "      <td>heart_disease</td>\n",
       "      <td>Multivariate</td>\n",
       "      <td>Classification (Binary)</td>\n",
       "      <td>Disease</td>\n",
       "      <td>None</td>\n",
       "      <td>270</td>\n",
       "      <td>14</td>\n",
       "      <td>N</td>\n",
       "    </tr>\n",
       "    <tr>\n",
       "      <th>12</th>\n",
       "      <td>hepatitis</td>\n",
       "      <td>Multivariate</td>\n",
       "      <td>Classification (Binary)</td>\n",
       "      <td>Class</td>\n",
       "      <td>None</td>\n",
       "      <td>154</td>\n",
       "      <td>32</td>\n",
       "      <td>Y</td>\n",
       "    </tr>\n",
       "    <tr>\n",
       "      <th>13</th>\n",
       "      <td>income</td>\n",
       "      <td>Multivariate</td>\n",
       "      <td>Classification (Binary)</td>\n",
       "      <td>income &gt;50K</td>\n",
       "      <td>None</td>\n",
       "      <td>32561</td>\n",
       "      <td>14</td>\n",
       "      <td>Y</td>\n",
       "    </tr>\n",
       "    <tr>\n",
       "      <th>14</th>\n",
       "      <td>juice</td>\n",
       "      <td>Multivariate</td>\n",
       "      <td>Classification (Binary)</td>\n",
       "      <td>Purchase</td>\n",
       "      <td>None</td>\n",
       "      <td>1070</td>\n",
       "      <td>15</td>\n",
       "      <td>N</td>\n",
       "    </tr>\n",
       "    <tr>\n",
       "      <th>15</th>\n",
       "      <td>nba</td>\n",
       "      <td>Multivariate</td>\n",
       "      <td>Classification (Binary)</td>\n",
       "      <td>TARGET_5Yrs</td>\n",
       "      <td>None</td>\n",
       "      <td>1340</td>\n",
       "      <td>21</td>\n",
       "      <td>N</td>\n",
       "    </tr>\n",
       "    <tr>\n",
       "      <th>16</th>\n",
       "      <td>wine</td>\n",
       "      <td>Multivariate</td>\n",
       "      <td>Classification (Binary)</td>\n",
       "      <td>type</td>\n",
       "      <td>None</td>\n",
       "      <td>6498</td>\n",
       "      <td>13</td>\n",
       "      <td>N</td>\n",
       "    </tr>\n",
       "    <tr>\n",
       "      <th>17</th>\n",
       "      <td>telescope</td>\n",
       "      <td>Multivariate</td>\n",
       "      <td>Classification (Binary)</td>\n",
       "      <td>Class</td>\n",
       "      <td>None</td>\n",
       "      <td>19020</td>\n",
       "      <td>11</td>\n",
       "      <td>N</td>\n",
       "    </tr>\n",
       "    <tr>\n",
       "      <th>18</th>\n",
       "      <td>titanic</td>\n",
       "      <td>Multivariate</td>\n",
       "      <td>Classification (Binary)</td>\n",
       "      <td>Survived</td>\n",
       "      <td>None</td>\n",
       "      <td>891</td>\n",
       "      <td>11</td>\n",
       "      <td>Y</td>\n",
       "    </tr>\n",
       "    <tr>\n",
       "      <th>19</th>\n",
       "      <td>us_presidential_election_results</td>\n",
       "      <td>Multivariate</td>\n",
       "      <td>Classification (Binary)</td>\n",
       "      <td>party_winner</td>\n",
       "      <td>None</td>\n",
       "      <td>497</td>\n",
       "      <td>7</td>\n",
       "      <td>N</td>\n",
       "    </tr>\n",
       "    <tr>\n",
       "      <th>20</th>\n",
       "      <td>glass</td>\n",
       "      <td>Multivariate</td>\n",
       "      <td>Classification (Multiclass)</td>\n",
       "      <td>Type</td>\n",
       "      <td>None</td>\n",
       "      <td>214</td>\n",
       "      <td>10</td>\n",
       "      <td>N</td>\n",
       "    </tr>\n",
       "    <tr>\n",
       "      <th>21</th>\n",
       "      <td>iris</td>\n",
       "      <td>Multivariate</td>\n",
       "      <td>Classification (Multiclass)</td>\n",
       "      <td>species</td>\n",
       "      <td>None</td>\n",
       "      <td>150</td>\n",
       "      <td>5</td>\n",
       "      <td>N</td>\n",
       "    </tr>\n",
       "    <tr>\n",
       "      <th>22</th>\n",
       "      <td>poker</td>\n",
       "      <td>Multivariate</td>\n",
       "      <td>Classification (Multiclass)</td>\n",
       "      <td>CLASS</td>\n",
       "      <td>None</td>\n",
       "      <td>100000</td>\n",
       "      <td>11</td>\n",
       "      <td>N</td>\n",
       "    </tr>\n",
       "    <tr>\n",
       "      <th>23</th>\n",
       "      <td>questions</td>\n",
       "      <td>Multivariate</td>\n",
       "      <td>Classification (Multiclass)</td>\n",
       "      <td>Next_Question</td>\n",
       "      <td>None</td>\n",
       "      <td>499</td>\n",
       "      <td>4</td>\n",
       "      <td>N</td>\n",
       "    </tr>\n",
       "    <tr>\n",
       "      <th>24</th>\n",
       "      <td>satellite</td>\n",
       "      <td>Multivariate</td>\n",
       "      <td>Classification (Multiclass)</td>\n",
       "      <td>Class</td>\n",
       "      <td>None</td>\n",
       "      <td>6435</td>\n",
       "      <td>37</td>\n",
       "      <td>N</td>\n",
       "    </tr>\n",
       "    <tr>\n",
       "      <th>25</th>\n",
       "      <td>CTG</td>\n",
       "      <td>Multivariate</td>\n",
       "      <td>Classification (Multiclass)</td>\n",
       "      <td>NSP</td>\n",
       "      <td>None</td>\n",
       "      <td>2129</td>\n",
       "      <td>40</td>\n",
       "      <td>Y</td>\n",
       "    </tr>\n",
       "    <tr>\n",
       "      <th>26</th>\n",
       "      <td>asia_gdp</td>\n",
       "      <td>Multivariate</td>\n",
       "      <td>Clustering</td>\n",
       "      <td>None</td>\n",
       "      <td>None</td>\n",
       "      <td>40</td>\n",
       "      <td>11</td>\n",
       "      <td>N</td>\n",
       "    </tr>\n",
       "    <tr>\n",
       "      <th>27</th>\n",
       "      <td>elections</td>\n",
       "      <td>Multivariate</td>\n",
       "      <td>Clustering</td>\n",
       "      <td>None</td>\n",
       "      <td>None</td>\n",
       "      <td>3195</td>\n",
       "      <td>54</td>\n",
       "      <td>Y</td>\n",
       "    </tr>\n",
       "    <tr>\n",
       "      <th>28</th>\n",
       "      <td>facebook</td>\n",
       "      <td>Multivariate</td>\n",
       "      <td>Clustering</td>\n",
       "      <td>None</td>\n",
       "      <td>None</td>\n",
       "      <td>7050</td>\n",
       "      <td>12</td>\n",
       "      <td>N</td>\n",
       "    </tr>\n",
       "    <tr>\n",
       "      <th>29</th>\n",
       "      <td>ipl</td>\n",
       "      <td>Multivariate</td>\n",
       "      <td>Clustering</td>\n",
       "      <td>None</td>\n",
       "      <td>None</td>\n",
       "      <td>153</td>\n",
       "      <td>25</td>\n",
       "      <td>N</td>\n",
       "    </tr>\n",
       "    <tr>\n",
       "      <th>30</th>\n",
       "      <td>jewellery</td>\n",
       "      <td>Multivariate</td>\n",
       "      <td>Clustering</td>\n",
       "      <td>None</td>\n",
       "      <td>None</td>\n",
       "      <td>505</td>\n",
       "      <td>4</td>\n",
       "      <td>N</td>\n",
       "    </tr>\n",
       "    <tr>\n",
       "      <th>31</th>\n",
       "      <td>mice</td>\n",
       "      <td>Multivariate</td>\n",
       "      <td>Clustering</td>\n",
       "      <td>None</td>\n",
       "      <td>None</td>\n",
       "      <td>1080</td>\n",
       "      <td>82</td>\n",
       "      <td>Y</td>\n",
       "    </tr>\n",
       "    <tr>\n",
       "      <th>32</th>\n",
       "      <td>migration</td>\n",
       "      <td>Multivariate</td>\n",
       "      <td>Clustering</td>\n",
       "      <td>None</td>\n",
       "      <td>None</td>\n",
       "      <td>233</td>\n",
       "      <td>12</td>\n",
       "      <td>N</td>\n",
       "    </tr>\n",
       "    <tr>\n",
       "      <th>33</th>\n",
       "      <td>perfume</td>\n",
       "      <td>Multivariate</td>\n",
       "      <td>Clustering</td>\n",
       "      <td>None</td>\n",
       "      <td>None</td>\n",
       "      <td>20</td>\n",
       "      <td>29</td>\n",
       "      <td>N</td>\n",
       "    </tr>\n",
       "    <tr>\n",
       "      <th>34</th>\n",
       "      <td>pokemon</td>\n",
       "      <td>Multivariate</td>\n",
       "      <td>Clustering</td>\n",
       "      <td>None</td>\n",
       "      <td>None</td>\n",
       "      <td>800</td>\n",
       "      <td>13</td>\n",
       "      <td>Y</td>\n",
       "    </tr>\n",
       "    <tr>\n",
       "      <th>35</th>\n",
       "      <td>population</td>\n",
       "      <td>Multivariate</td>\n",
       "      <td>Clustering</td>\n",
       "      <td>None</td>\n",
       "      <td>None</td>\n",
       "      <td>255</td>\n",
       "      <td>56</td>\n",
       "      <td>Y</td>\n",
       "    </tr>\n",
       "    <tr>\n",
       "      <th>36</th>\n",
       "      <td>public_health</td>\n",
       "      <td>Multivariate</td>\n",
       "      <td>Clustering</td>\n",
       "      <td>None</td>\n",
       "      <td>None</td>\n",
       "      <td>224</td>\n",
       "      <td>21</td>\n",
       "      <td>N</td>\n",
       "    </tr>\n",
       "    <tr>\n",
       "      <th>37</th>\n",
       "      <td>seeds</td>\n",
       "      <td>Multivariate</td>\n",
       "      <td>Clustering</td>\n",
       "      <td>None</td>\n",
       "      <td>None</td>\n",
       "      <td>210</td>\n",
       "      <td>7</td>\n",
       "      <td>N</td>\n",
       "    </tr>\n",
       "    <tr>\n",
       "      <th>38</th>\n",
       "      <td>wholesale</td>\n",
       "      <td>Multivariate</td>\n",
       "      <td>Clustering</td>\n",
       "      <td>None</td>\n",
       "      <td>None</td>\n",
       "      <td>440</td>\n",
       "      <td>8</td>\n",
       "      <td>N</td>\n",
       "    </tr>\n",
       "    <tr>\n",
       "      <th>39</th>\n",
       "      <td>tweets</td>\n",
       "      <td>Text</td>\n",
       "      <td>NLP</td>\n",
       "      <td>tweet</td>\n",
       "      <td>None</td>\n",
       "      <td>8594</td>\n",
       "      <td>2</td>\n",
       "      <td>N</td>\n",
       "    </tr>\n",
       "    <tr>\n",
       "      <th>40</th>\n",
       "      <td>amazon</td>\n",
       "      <td>Text</td>\n",
       "      <td>NLP / Classification</td>\n",
       "      <td>reviewText</td>\n",
       "      <td>None</td>\n",
       "      <td>20000</td>\n",
       "      <td>2</td>\n",
       "      <td>N</td>\n",
       "    </tr>\n",
       "    <tr>\n",
       "      <th>41</th>\n",
       "      <td>kiva</td>\n",
       "      <td>Text</td>\n",
       "      <td>NLP / Classification</td>\n",
       "      <td>en</td>\n",
       "      <td>None</td>\n",
       "      <td>6818</td>\n",
       "      <td>7</td>\n",
       "      <td>N</td>\n",
       "    </tr>\n",
       "    <tr>\n",
       "      <th>42</th>\n",
       "      <td>spx</td>\n",
       "      <td>Text</td>\n",
       "      <td>NLP / Regression</td>\n",
       "      <td>text</td>\n",
       "      <td>None</td>\n",
       "      <td>874</td>\n",
       "      <td>4</td>\n",
       "      <td>N</td>\n",
       "    </tr>\n",
       "    <tr>\n",
       "      <th>43</th>\n",
       "      <td>wikipedia</td>\n",
       "      <td>Text</td>\n",
       "      <td>NLP / Classification</td>\n",
       "      <td>Text</td>\n",
       "      <td>None</td>\n",
       "      <td>500</td>\n",
       "      <td>3</td>\n",
       "      <td>N</td>\n",
       "    </tr>\n",
       "    <tr>\n",
       "      <th>44</th>\n",
       "      <td>automobile</td>\n",
       "      <td>Multivariate</td>\n",
       "      <td>Regression</td>\n",
       "      <td>price</td>\n",
       "      <td>None</td>\n",
       "      <td>202</td>\n",
       "      <td>26</td>\n",
       "      <td>Y</td>\n",
       "    </tr>\n",
       "    <tr>\n",
       "      <th>45</th>\n",
       "      <td>bike</td>\n",
       "      <td>Multivariate</td>\n",
       "      <td>Regression</td>\n",
       "      <td>cnt</td>\n",
       "      <td>None</td>\n",
       "      <td>17379</td>\n",
       "      <td>15</td>\n",
       "      <td>N</td>\n",
       "    </tr>\n",
       "    <tr>\n",
       "      <th>46</th>\n",
       "      <td>boston</td>\n",
       "      <td>Multivariate</td>\n",
       "      <td>Regression</td>\n",
       "      <td>medv</td>\n",
       "      <td>None</td>\n",
       "      <td>506</td>\n",
       "      <td>14</td>\n",
       "      <td>N</td>\n",
       "    </tr>\n",
       "    <tr>\n",
       "      <th>47</th>\n",
       "      <td>concrete</td>\n",
       "      <td>Multivariate</td>\n",
       "      <td>Regression</td>\n",
       "      <td>strength</td>\n",
       "      <td>None</td>\n",
       "      <td>1030</td>\n",
       "      <td>9</td>\n",
       "      <td>N</td>\n",
       "    </tr>\n",
       "    <tr>\n",
       "      <th>48</th>\n",
       "      <td>diamond</td>\n",
       "      <td>Multivariate</td>\n",
       "      <td>Regression</td>\n",
       "      <td>Price</td>\n",
       "      <td>None</td>\n",
       "      <td>6000</td>\n",
       "      <td>8</td>\n",
       "      <td>N</td>\n",
       "    </tr>\n",
       "    <tr>\n",
       "      <th>49</th>\n",
       "      <td>energy</td>\n",
       "      <td>Multivariate</td>\n",
       "      <td>Regression</td>\n",
       "      <td>Heating Load</td>\n",
       "      <td>Cooling Load</td>\n",
       "      <td>768</td>\n",
       "      <td>10</td>\n",
       "      <td>N</td>\n",
       "    </tr>\n",
       "    <tr>\n",
       "      <th>50</th>\n",
       "      <td>forest</td>\n",
       "      <td>Multivariate</td>\n",
       "      <td>Regression</td>\n",
       "      <td>area</td>\n",
       "      <td>None</td>\n",
       "      <td>517</td>\n",
       "      <td>13</td>\n",
       "      <td>N</td>\n",
       "    </tr>\n",
       "    <tr>\n",
       "      <th>51</th>\n",
       "      <td>gold</td>\n",
       "      <td>Multivariate</td>\n",
       "      <td>Regression</td>\n",
       "      <td>Gold_T+22</td>\n",
       "      <td>None</td>\n",
       "      <td>2558</td>\n",
       "      <td>121</td>\n",
       "      <td>N</td>\n",
       "    </tr>\n",
       "    <tr>\n",
       "      <th>52</th>\n",
       "      <td>house</td>\n",
       "      <td>Multivariate</td>\n",
       "      <td>Regression</td>\n",
       "      <td>SalePrice</td>\n",
       "      <td>None</td>\n",
       "      <td>1461</td>\n",
       "      <td>81</td>\n",
       "      <td>Y</td>\n",
       "    </tr>\n",
       "    <tr>\n",
       "      <th>53</th>\n",
       "      <td>insurance</td>\n",
       "      <td>Multivariate</td>\n",
       "      <td>Regression</td>\n",
       "      <td>charges</td>\n",
       "      <td>None</td>\n",
       "      <td>1338</td>\n",
       "      <td>7</td>\n",
       "      <td>N</td>\n",
       "    </tr>\n",
       "    <tr>\n",
       "      <th>54</th>\n",
       "      <td>parkinsons</td>\n",
       "      <td>Multivariate</td>\n",
       "      <td>Regression</td>\n",
       "      <td>PPE</td>\n",
       "      <td>None</td>\n",
       "      <td>5875</td>\n",
       "      <td>22</td>\n",
       "      <td>N</td>\n",
       "    </tr>\n",
       "    <tr>\n",
       "      <th>55</th>\n",
       "      <td>traffic</td>\n",
       "      <td>Multivariate</td>\n",
       "      <td>Regression</td>\n",
       "      <td>traffic_volume</td>\n",
       "      <td>None</td>\n",
       "      <td>48204</td>\n",
       "      <td>8</td>\n",
       "      <td>N</td>\n",
       "    </tr>\n",
       "  </tbody>\n",
       "</table>\n",
       "</div>"
      ],
      "text/plain": [
       "                             Dataset    Data Types  \\\n",
       "0                            anomaly  Multivariate   \n",
       "1                             france  Multivariate   \n",
       "2                            germany  Multivariate   \n",
       "3                               bank  Multivariate   \n",
       "4                              blood  Multivariate   \n",
       "5                             cancer  Multivariate   \n",
       "6                             credit  Multivariate   \n",
       "7                           diabetes  Multivariate   \n",
       "8                    electrical_grid  Multivariate   \n",
       "9                           employee  Multivariate   \n",
       "10                             heart  Multivariate   \n",
       "11                     heart_disease  Multivariate   \n",
       "12                         hepatitis  Multivariate   \n",
       "13                            income  Multivariate   \n",
       "14                             juice  Multivariate   \n",
       "15                               nba  Multivariate   \n",
       "16                              wine  Multivariate   \n",
       "17                         telescope  Multivariate   \n",
       "18                           titanic  Multivariate   \n",
       "19  us_presidential_election_results  Multivariate   \n",
       "20                             glass  Multivariate   \n",
       "21                              iris  Multivariate   \n",
       "22                             poker  Multivariate   \n",
       "23                         questions  Multivariate   \n",
       "24                         satellite  Multivariate   \n",
       "25                               CTG  Multivariate   \n",
       "26                          asia_gdp  Multivariate   \n",
       "27                         elections  Multivariate   \n",
       "28                          facebook  Multivariate   \n",
       "29                               ipl  Multivariate   \n",
       "30                         jewellery  Multivariate   \n",
       "31                              mice  Multivariate   \n",
       "32                         migration  Multivariate   \n",
       "33                           perfume  Multivariate   \n",
       "34                           pokemon  Multivariate   \n",
       "35                        population  Multivariate   \n",
       "36                     public_health  Multivariate   \n",
       "37                             seeds  Multivariate   \n",
       "38                         wholesale  Multivariate   \n",
       "39                            tweets          Text   \n",
       "40                            amazon          Text   \n",
       "41                              kiva          Text   \n",
       "42                               spx          Text   \n",
       "43                         wikipedia          Text   \n",
       "44                        automobile  Multivariate   \n",
       "45                              bike  Multivariate   \n",
       "46                            boston  Multivariate   \n",
       "47                          concrete  Multivariate   \n",
       "48                           diamond  Multivariate   \n",
       "49                            energy  Multivariate   \n",
       "50                            forest  Multivariate   \n",
       "51                              gold  Multivariate   \n",
       "52                             house  Multivariate   \n",
       "53                         insurance  Multivariate   \n",
       "54                        parkinsons  Multivariate   \n",
       "55                           traffic  Multivariate   \n",
       "\n",
       "                   Default Task Target Variable 1 Target Variable 2  \\\n",
       "0             Anomaly Detection              None              None   \n",
       "1       Association Rule Mining         InvoiceNo       Description   \n",
       "2       Association Rule Mining         InvoiceNo       Description   \n",
       "3       Classification (Binary)           deposit              None   \n",
       "4       Classification (Binary)             Class              None   \n",
       "5       Classification (Binary)             Class              None   \n",
       "6       Classification (Binary)           default              None   \n",
       "7       Classification (Binary)    Class variable              None   \n",
       "8       Classification (Binary)             stabf              None   \n",
       "9       Classification (Binary)              left              None   \n",
       "10      Classification (Binary)             DEATH              None   \n",
       "11      Classification (Binary)           Disease              None   \n",
       "12      Classification (Binary)             Class              None   \n",
       "13      Classification (Binary)       income >50K              None   \n",
       "14      Classification (Binary)          Purchase              None   \n",
       "15      Classification (Binary)       TARGET_5Yrs              None   \n",
       "16      Classification (Binary)              type              None   \n",
       "17      Classification (Binary)             Class              None   \n",
       "18      Classification (Binary)          Survived              None   \n",
       "19      Classification (Binary)      party_winner              None   \n",
       "20  Classification (Multiclass)              Type              None   \n",
       "21  Classification (Multiclass)           species              None   \n",
       "22  Classification (Multiclass)             CLASS              None   \n",
       "23  Classification (Multiclass)     Next_Question              None   \n",
       "24  Classification (Multiclass)             Class              None   \n",
       "25  Classification (Multiclass)               NSP              None   \n",
       "26                   Clustering              None              None   \n",
       "27                   Clustering              None              None   \n",
       "28                   Clustering              None              None   \n",
       "29                   Clustering              None              None   \n",
       "30                   Clustering              None              None   \n",
       "31                   Clustering              None              None   \n",
       "32                   Clustering              None              None   \n",
       "33                   Clustering              None              None   \n",
       "34                   Clustering              None              None   \n",
       "35                   Clustering              None              None   \n",
       "36                   Clustering              None              None   \n",
       "37                   Clustering              None              None   \n",
       "38                   Clustering              None              None   \n",
       "39                          NLP             tweet              None   \n",
       "40         NLP / Classification        reviewText              None   \n",
       "41         NLP / Classification                en              None   \n",
       "42             NLP / Regression              text              None   \n",
       "43         NLP / Classification              Text              None   \n",
       "44                   Regression             price              None   \n",
       "45                   Regression               cnt              None   \n",
       "46                   Regression              medv              None   \n",
       "47                   Regression          strength              None   \n",
       "48                   Regression             Price              None   \n",
       "49                   Regression      Heating Load      Cooling Load   \n",
       "50                   Regression              area              None   \n",
       "51                   Regression         Gold_T+22              None   \n",
       "52                   Regression         SalePrice              None   \n",
       "53                   Regression           charges              None   \n",
       "54                   Regression               PPE              None   \n",
       "55                   Regression    traffic_volume              None   \n",
       "\n",
       "    # Instances  # Attributes Missing Values  \n",
       "0          1000            10              N  \n",
       "1          8557             8              N  \n",
       "2          9495             8              N  \n",
       "3         45211            17              N  \n",
       "4           748             5              N  \n",
       "5           683            10              N  \n",
       "6         24000            24              N  \n",
       "7           768             9              N  \n",
       "8         10000            14              N  \n",
       "9         14999            10              N  \n",
       "10          200            16              N  \n",
       "11          270            14              N  \n",
       "12          154            32              Y  \n",
       "13        32561            14              Y  \n",
       "14         1070            15              N  \n",
       "15         1340            21              N  \n",
       "16         6498            13              N  \n",
       "17        19020            11              N  \n",
       "18          891            11              Y  \n",
       "19          497             7              N  \n",
       "20          214            10              N  \n",
       "21          150             5              N  \n",
       "22       100000            11              N  \n",
       "23          499             4              N  \n",
       "24         6435            37              N  \n",
       "25         2129            40              Y  \n",
       "26           40            11              N  \n",
       "27         3195            54              Y  \n",
       "28         7050            12              N  \n",
       "29          153            25              N  \n",
       "30          505             4              N  \n",
       "31         1080            82              Y  \n",
       "32          233            12              N  \n",
       "33           20            29              N  \n",
       "34          800            13              Y  \n",
       "35          255            56              Y  \n",
       "36          224            21              N  \n",
       "37          210             7              N  \n",
       "38          440             8              N  \n",
       "39         8594             2              N  \n",
       "40        20000             2              N  \n",
       "41         6818             7              N  \n",
       "42          874             4              N  \n",
       "43          500             3              N  \n",
       "44          202            26              Y  \n",
       "45        17379            15              N  \n",
       "46          506            14              N  \n",
       "47         1030             9              N  \n",
       "48         6000             8              N  \n",
       "49          768            10              N  \n",
       "50          517            13              N  \n",
       "51         2558           121              N  \n",
       "52         1461            81              Y  \n",
       "53         1338             7              N  \n",
       "54         5875            22              N  \n",
       "55        48204             8              N  "
      ]
     },
     "metadata": {},
     "output_type": "display_data"
    }
   ],
   "source": [
    "from pycaret.datasets import get_data\n",
    "all_datasets = get_data('index')\n"
   ]
  },
  {
   "cell_type": "code",
   "execution_count": 14,
   "metadata": {},
   "outputs": [
    {
     "data": {
      "text/html": [
       "<div>\n",
       "<style scoped>\n",
       "    .dataframe tbody tr th:only-of-type {\n",
       "        vertical-align: middle;\n",
       "    }\n",
       "\n",
       "    .dataframe tbody tr th {\n",
       "        vertical-align: top;\n",
       "    }\n",
       "\n",
       "    .dataframe thead th {\n",
       "        text-align: right;\n",
       "    }\n",
       "</style>\n",
       "<table border=\"1\" class=\"dataframe\">\n",
       "  <thead>\n",
       "    <tr style=\"text-align: right;\">\n",
       "      <th></th>\n",
       "      <th>Col1</th>\n",
       "      <th>Col2</th>\n",
       "      <th>Col3</th>\n",
       "      <th>Col4</th>\n",
       "      <th>Col5</th>\n",
       "      <th>Col6</th>\n",
       "      <th>Col7</th>\n",
       "      <th>Col8</th>\n",
       "      <th>Col9</th>\n",
       "      <th>Col10</th>\n",
       "    </tr>\n",
       "  </thead>\n",
       "  <tbody>\n",
       "    <tr>\n",
       "      <th>0</th>\n",
       "      <td>0.263995</td>\n",
       "      <td>0.764929</td>\n",
       "      <td>0.138424</td>\n",
       "      <td>0.935242</td>\n",
       "      <td>0.605867</td>\n",
       "      <td>0.518790</td>\n",
       "      <td>0.912225</td>\n",
       "      <td>0.608234</td>\n",
       "      <td>0.723782</td>\n",
       "      <td>0.733591</td>\n",
       "    </tr>\n",
       "    <tr>\n",
       "      <th>1</th>\n",
       "      <td>0.546092</td>\n",
       "      <td>0.653975</td>\n",
       "      <td>0.065575</td>\n",
       "      <td>0.227772</td>\n",
       "      <td>0.845269</td>\n",
       "      <td>0.837066</td>\n",
       "      <td>0.272379</td>\n",
       "      <td>0.331679</td>\n",
       "      <td>0.429297</td>\n",
       "      <td>0.367422</td>\n",
       "    </tr>\n",
       "    <tr>\n",
       "      <th>2</th>\n",
       "      <td>0.336714</td>\n",
       "      <td>0.538842</td>\n",
       "      <td>0.192801</td>\n",
       "      <td>0.553563</td>\n",
       "      <td>0.074515</td>\n",
       "      <td>0.332993</td>\n",
       "      <td>0.365792</td>\n",
       "      <td>0.861309</td>\n",
       "      <td>0.899017</td>\n",
       "      <td>0.088600</td>\n",
       "    </tr>\n",
       "    <tr>\n",
       "      <th>3</th>\n",
       "      <td>0.092108</td>\n",
       "      <td>0.995017</td>\n",
       "      <td>0.014465</td>\n",
       "      <td>0.176371</td>\n",
       "      <td>0.241530</td>\n",
       "      <td>0.514724</td>\n",
       "      <td>0.562208</td>\n",
       "      <td>0.158963</td>\n",
       "      <td>0.073715</td>\n",
       "      <td>0.208463</td>\n",
       "    </tr>\n",
       "    <tr>\n",
       "      <th>4</th>\n",
       "      <td>0.325261</td>\n",
       "      <td>0.805968</td>\n",
       "      <td>0.957033</td>\n",
       "      <td>0.331665</td>\n",
       "      <td>0.307923</td>\n",
       "      <td>0.355315</td>\n",
       "      <td>0.501899</td>\n",
       "      <td>0.558449</td>\n",
       "      <td>0.885169</td>\n",
       "      <td>0.182754</td>\n",
       "    </tr>\n",
       "  </tbody>\n",
       "</table>\n",
       "</div>"
      ],
      "text/plain": [
       "       Col1      Col2      Col3      Col4      Col5      Col6      Col7  \\\n",
       "0  0.263995  0.764929  0.138424  0.935242  0.605867  0.518790  0.912225   \n",
       "1  0.546092  0.653975  0.065575  0.227772  0.845269  0.837066  0.272379   \n",
       "2  0.336714  0.538842  0.192801  0.553563  0.074515  0.332993  0.365792   \n",
       "3  0.092108  0.995017  0.014465  0.176371  0.241530  0.514724  0.562208   \n",
       "4  0.325261  0.805968  0.957033  0.331665  0.307923  0.355315  0.501899   \n",
       "\n",
       "       Col8      Col9     Col10  \n",
       "0  0.608234  0.723782  0.733591  \n",
       "1  0.331679  0.429297  0.367422  \n",
       "2  0.861309  0.899017  0.088600  \n",
       "3  0.158963  0.073715  0.208463  \n",
       "4  0.558449  0.885169  0.182754  "
      ]
     },
     "metadata": {},
     "output_type": "display_data"
    },
    {
     "data": {
      "text/html": [
       "<div>\n",
       "<style scoped>\n",
       "    .dataframe tbody tr th:only-of-type {\n",
       "        vertical-align: middle;\n",
       "    }\n",
       "\n",
       "    .dataframe tbody tr th {\n",
       "        vertical-align: top;\n",
       "    }\n",
       "\n",
       "    .dataframe thead th {\n",
       "        text-align: right;\n",
       "    }\n",
       "</style>\n",
       "<table border=\"1\" class=\"dataframe\">\n",
       "  <thead>\n",
       "    <tr style=\"text-align: right;\">\n",
       "      <th></th>\n",
       "      <th>Col1</th>\n",
       "      <th>Col2</th>\n",
       "      <th>Col3</th>\n",
       "      <th>Col4</th>\n",
       "      <th>Col5</th>\n",
       "      <th>Col6</th>\n",
       "      <th>Col7</th>\n",
       "      <th>Col8</th>\n",
       "      <th>Col9</th>\n",
       "      <th>Col10</th>\n",
       "    </tr>\n",
       "  </thead>\n",
       "  <tbody>\n",
       "    <tr>\n",
       "      <th>0</th>\n",
       "      <td>0.263995</td>\n",
       "      <td>0.764929</td>\n",
       "      <td>0.138424</td>\n",
       "      <td>0.935242</td>\n",
       "      <td>0.605867</td>\n",
       "      <td>0.518790</td>\n",
       "      <td>0.912225</td>\n",
       "      <td>0.608234</td>\n",
       "      <td>0.723782</td>\n",
       "      <td>0.733591</td>\n",
       "    </tr>\n",
       "    <tr>\n",
       "      <th>1</th>\n",
       "      <td>0.546092</td>\n",
       "      <td>0.653975</td>\n",
       "      <td>0.065575</td>\n",
       "      <td>0.227772</td>\n",
       "      <td>0.845269</td>\n",
       "      <td>0.837066</td>\n",
       "      <td>0.272379</td>\n",
       "      <td>0.331679</td>\n",
       "      <td>0.429297</td>\n",
       "      <td>0.367422</td>\n",
       "    </tr>\n",
       "    <tr>\n",
       "      <th>2</th>\n",
       "      <td>0.336714</td>\n",
       "      <td>0.538842</td>\n",
       "      <td>0.192801</td>\n",
       "      <td>0.553563</td>\n",
       "      <td>0.074515</td>\n",
       "      <td>0.332993</td>\n",
       "      <td>0.365792</td>\n",
       "      <td>0.861309</td>\n",
       "      <td>0.899017</td>\n",
       "      <td>0.088600</td>\n",
       "    </tr>\n",
       "    <tr>\n",
       "      <th>3</th>\n",
       "      <td>0.092108</td>\n",
       "      <td>0.995017</td>\n",
       "      <td>0.014465</td>\n",
       "      <td>0.176371</td>\n",
       "      <td>0.241530</td>\n",
       "      <td>0.514724</td>\n",
       "      <td>0.562208</td>\n",
       "      <td>0.158963</td>\n",
       "      <td>0.073715</td>\n",
       "      <td>0.208463</td>\n",
       "    </tr>\n",
       "    <tr>\n",
       "      <th>4</th>\n",
       "      <td>0.325261</td>\n",
       "      <td>0.805968</td>\n",
       "      <td>0.957033</td>\n",
       "      <td>0.331665</td>\n",
       "      <td>0.307923</td>\n",
       "      <td>0.355315</td>\n",
       "      <td>0.501899</td>\n",
       "      <td>0.558449</td>\n",
       "      <td>0.885169</td>\n",
       "      <td>0.182754</td>\n",
       "    </tr>\n",
       "  </tbody>\n",
       "</table>\n",
       "</div>"
      ],
      "text/plain": [
       "       Col1      Col2      Col3      Col4      Col5      Col6      Col7  \\\n",
       "0  0.263995  0.764929  0.138424  0.935242  0.605867  0.518790  0.912225   \n",
       "1  0.546092  0.653975  0.065575  0.227772  0.845269  0.837066  0.272379   \n",
       "2  0.336714  0.538842  0.192801  0.553563  0.074515  0.332993  0.365792   \n",
       "3  0.092108  0.995017  0.014465  0.176371  0.241530  0.514724  0.562208   \n",
       "4  0.325261  0.805968  0.957033  0.331665  0.307923  0.355315  0.501899   \n",
       "\n",
       "       Col8      Col9     Col10  \n",
       "0  0.608234  0.723782  0.733591  \n",
       "1  0.331679  0.429297  0.367422  \n",
       "2  0.861309  0.899017  0.088600  \n",
       "3  0.158963  0.073715  0.208463  \n",
       "4  0.558449  0.885169  0.182754  "
      ]
     },
     "execution_count": 14,
     "metadata": {},
     "output_type": "execute_result"
    }
   ],
   "source": [
    "df = get_data('anomaly')\n",
    "df.head()"
   ]
  },
  {
   "cell_type": "code",
   "execution_count": 15,
   "metadata": {},
   "outputs": [
    {
     "data": {
      "image/png": "[encoded data removed]",
      "text/plain": [
       "<Figure size 1000x800 with 1 Axes>"
      ]
     },
     "metadata": {},
     "output_type": "display_data"
    }
   ],
   "source": [
    "plt.rcParams[\"figure.figsize\"] = (10,8)\n",
    "sns.swarmplot(x=\"variable\", y=\"value\", data=pd.melt(df))\n",
    "plt.show()"
   ]
  },
  {
   "cell_type": "code",
   "execution_count": 16,
   "metadata": {},
   "outputs": [
    {
     "data": {
      "image/png": "[encoded data removed]",
      "text/plain": [
       "<Figure size 1000x800 with 1 Axes>"
      ]
     },
     "metadata": {},
     "output_type": "display_data"
    }
   ],
   "source": [
    "sns.boxplot(x=\"variable\", y=\"value\", data=pd.melt(df))\n",
    "plt.show()"
   ]
  },
  {
   "cell_type": "code",
   "execution_count": 17,
   "metadata": {},
   "outputs": [
    {
     "data": {
      "text/html": [
       "<style type=\"text/css\">\n",
       "#T_46134_row4_col1 {\n",
       "  background-color: lightgreen;\n",
       "}\n",
       "</style>\n",
       "<table id=\"T_46134\">\n",
       "  <thead>\n",
       "    <tr>\n",
       "      <th class=\"blank level0\" >&nbsp;</th>\n",
       "      <th id=\"T_46134_level0_col0\" class=\"col_heading level0 col0\" >Description</th>\n",
       "      <th id=\"T_46134_level0_col1\" class=\"col_heading level0 col1\" >Value</th>\n",
       "    </tr>\n",
       "  </thead>\n",
       "  <tbody>\n",
       "    <tr>\n",
       "      <th id=\"T_46134_level0_row0\" class=\"row_heading level0 row0\" >0</th>\n",
       "      <td id=\"T_46134_row0_col0\" class=\"data row0 col0\" >Session id</td>\n",
       "      <td id=\"T_46134_row0_col1\" class=\"data row0 col1\" >123</td>\n",
       "    </tr>\n",
       "    <tr>\n",
       "      <th id=\"T_46134_level0_row1\" class=\"row_heading level0 row1\" >1</th>\n",
       "      <td id=\"T_46134_row1_col0\" class=\"data row1 col0\" >Original data shape</td>\n",
       "      <td id=\"T_46134_row1_col1\" class=\"data row1 col1\" >(1000, 10)</td>\n",
       "    </tr>\n",
       "    <tr>\n",
       "      <th id=\"T_46134_level0_row2\" class=\"row_heading level0 row2\" >2</th>\n",
       "      <td id=\"T_46134_row2_col0\" class=\"data row2 col0\" >Transformed data shape</td>\n",
       "      <td id=\"T_46134_row2_col1\" class=\"data row2 col1\" >(1000, 10)</td>\n",
       "    </tr>\n",
       "    <tr>\n",
       "      <th id=\"T_46134_level0_row3\" class=\"row_heading level0 row3\" >3</th>\n",
       "      <td id=\"T_46134_row3_col0\" class=\"data row3 col0\" >Numeric features</td>\n",
       "      <td id=\"T_46134_row3_col1\" class=\"data row3 col1\" >10</td>\n",
       "    </tr>\n",
       "    <tr>\n",
       "      <th id=\"T_46134_level0_row4\" class=\"row_heading level0 row4\" >4</th>\n",
       "      <td id=\"T_46134_row4_col0\" class=\"data row4 col0\" >Preprocess</td>\n",
       "      <td id=\"T_46134_row4_col1\" class=\"data row4 col1\" >True</td>\n",
       "    </tr>\n",
       "    <tr>\n",
       "      <th id=\"T_46134_level0_row5\" class=\"row_heading level0 row5\" >5</th>\n",
       "      <td id=\"T_46134_row5_col0\" class=\"data row5 col0\" >Imputation type</td>\n",
       "      <td id=\"T_46134_row5_col1\" class=\"data row5 col1\" >simple</td>\n",
       "    </tr>\n",
       "    <tr>\n",
       "      <th id=\"T_46134_level0_row6\" class=\"row_heading level0 row6\" >6</th>\n",
       "      <td id=\"T_46134_row6_col0\" class=\"data row6 col0\" >Numeric imputation</td>\n",
       "      <td id=\"T_46134_row6_col1\" class=\"data row6 col1\" >mean</td>\n",
       "    </tr>\n",
       "    <tr>\n",
       "      <th id=\"T_46134_level0_row7\" class=\"row_heading level0 row7\" >7</th>\n",
       "      <td id=\"T_46134_row7_col0\" class=\"data row7 col0\" >Categorical imputation</td>\n",
       "      <td id=\"T_46134_row7_col1\" class=\"data row7 col1\" >mode</td>\n",
       "    </tr>\n",
       "    <tr>\n",
       "      <th id=\"T_46134_level0_row8\" class=\"row_heading level0 row8\" >8</th>\n",
       "      <td id=\"T_46134_row8_col0\" class=\"data row8 col0\" >CPU Jobs</td>\n",
       "      <td id=\"T_46134_row8_col1\" class=\"data row8 col1\" >-1</td>\n",
       "    </tr>\n",
       "    <tr>\n",
       "      <th id=\"T_46134_level0_row9\" class=\"row_heading level0 row9\" >9</th>\n",
       "      <td id=\"T_46134_row9_col0\" class=\"data row9 col0\" >Use GPU</td>\n",
       "      <td id=\"T_46134_row9_col1\" class=\"data row9 col1\" >False</td>\n",
       "    </tr>\n",
       "    <tr>\n",
       "      <th id=\"T_46134_level0_row10\" class=\"row_heading level0 row10\" >10</th>\n",
       "      <td id=\"T_46134_row10_col0\" class=\"data row10 col0\" >Log Experiment</td>\n",
       "      <td id=\"T_46134_row10_col1\" class=\"data row10 col1\" >False</td>\n",
       "    </tr>\n",
       "    <tr>\n",
       "      <th id=\"T_46134_level0_row11\" class=\"row_heading level0 row11\" >11</th>\n",
       "      <td id=\"T_46134_row11_col0\" class=\"data row11 col0\" >Experiment Name</td>\n",
       "      <td id=\"T_46134_row11_col1\" class=\"data row11 col1\" >anomaly-default-name</td>\n",
       "    </tr>\n",
       "    <tr>\n",
       "      <th id=\"T_46134_level0_row12\" class=\"row_heading level0 row12\" >12</th>\n",
       "      <td id=\"T_46134_row12_col0\" class=\"data row12 col0\" >USI</td>\n",
       "      <td id=\"T_46134_row12_col1\" class=\"data row12 col1\" >9a5d</td>\n",
       "    </tr>\n",
       "  </tbody>\n",
       "</table>\n"
      ],
      "text/plain": [
       "<pandas.io.formats.style.Styler at 0x26d615ff7c0>"
      ]
     },
     "metadata": {},
     "output_type": "display_data"
    }
   ],
   "source": [
    "from pycaret.anomaly import *\n",
    "setup = setup(df, session_id = 123)"
   ]
  },
  {
   "cell_type": "code",
   "execution_count": 18,
   "metadata": {},
   "outputs": [
    {
     "data": {
      "text/html": [
       "<div>\n",
       "<style scoped>\n",
       "    .dataframe tbody tr th:only-of-type {\n",
       "        vertical-align: middle;\n",
       "    }\n",
       "\n",
       "    .dataframe tbody tr th {\n",
       "        vertical-align: top;\n",
       "    }\n",
       "\n",
       "    .dataframe thead th {\n",
       "        text-align: right;\n",
       "    }\n",
       "</style>\n",
       "<table border=\"1\" class=\"dataframe\">\n",
       "  <thead>\n",
       "    <tr style=\"text-align: right;\">\n",
       "      <th></th>\n",
       "      <th>Name</th>\n",
       "      <th>Reference</th>\n",
       "    </tr>\n",
       "    <tr>\n",
       "      <th>ID</th>\n",
       "      <th></th>\n",
       "      <th></th>\n",
       "    </tr>\n",
       "  </thead>\n",
       "  <tbody>\n",
       "    <tr>\n",
       "      <th>abod</th>\n",
       "      <td>Angle-base Outlier Detection</td>\n",
       "      <td>pyod.models.abod.ABOD</td>\n",
       "    </tr>\n",
       "    <tr>\n",
       "      <th>cluster</th>\n",
       "      <td>Clustering-Based Local Outlier</td>\n",
       "      <td>pyod.models.cblof.CBLOF</td>\n",
       "    </tr>\n",
       "    <tr>\n",
       "      <th>cof</th>\n",
       "      <td>Connectivity-Based Local Outlier</td>\n",
       "      <td>pyod.models.cof.COF</td>\n",
       "    </tr>\n",
       "    <tr>\n",
       "      <th>iforest</th>\n",
       "      <td>Isolation Forest</td>\n",
       "      <td>pyod.models.iforest.IForest</td>\n",
       "    </tr>\n",
       "    <tr>\n",
       "      <th>histogram</th>\n",
       "      <td>Histogram-based Outlier Detection</td>\n",
       "      <td>pyod.models.hbos.HBOS</td>\n",
       "    </tr>\n",
       "    <tr>\n",
       "      <th>knn</th>\n",
       "      <td>K-Nearest Neighbors Detector</td>\n",
       "      <td>pyod.models.knn.KNN</td>\n",
       "    </tr>\n",
       "    <tr>\n",
       "      <th>lof</th>\n",
       "      <td>Local Outlier Factor</td>\n",
       "      <td>pyod.models.lof.LOF</td>\n",
       "    </tr>\n",
       "    <tr>\n",
       "      <th>svm</th>\n",
       "      <td>One-class SVM detector</td>\n",
       "      <td>pyod.models.ocsvm.OCSVM</td>\n",
       "    </tr>\n",
       "    <tr>\n",
       "      <th>pca</th>\n",
       "      <td>Principal Component Analysis</td>\n",
       "      <td>pyod.models.pca.PCA</td>\n",
       "    </tr>\n",
       "    <tr>\n",
       "      <th>mcd</th>\n",
       "      <td>Minimum Covariance Determinant</td>\n",
       "      <td>pyod.models.mcd.MCD</td>\n",
       "    </tr>\n",
       "    <tr>\n",
       "      <th>sod</th>\n",
       "      <td>Subspace Outlier Detection</td>\n",
       "      <td>pyod.models.sod.SOD</td>\n",
       "    </tr>\n",
       "    <tr>\n",
       "      <th>sos</th>\n",
       "      <td>Stochastic Outlier Selection</td>\n",
       "      <td>pyod.models.sos.SOS</td>\n",
       "    </tr>\n",
       "  </tbody>\n",
       "</table>\n",
       "</div>"
      ],
      "text/plain": [
       "                                        Name                    Reference\n",
       "ID                                                                       \n",
       "abod            Angle-base Outlier Detection        pyod.models.abod.ABOD\n",
       "cluster       Clustering-Based Local Outlier      pyod.models.cblof.CBLOF\n",
       "cof         Connectivity-Based Local Outlier          pyod.models.cof.COF\n",
       "iforest                     Isolation Forest  pyod.models.iforest.IForest\n",
       "histogram  Histogram-based Outlier Detection        pyod.models.hbos.HBOS\n",
       "knn             K-Nearest Neighbors Detector          pyod.models.knn.KNN\n",
       "lof                     Local Outlier Factor          pyod.models.lof.LOF\n",
       "svm                   One-class SVM detector      pyod.models.ocsvm.OCSVM\n",
       "pca             Principal Component Analysis          pyod.models.pca.PCA\n",
       "mcd           Minimum Covariance Determinant          pyod.models.mcd.MCD\n",
       "sod               Subspace Outlier Detection          pyod.models.sod.SOD\n",
       "sos             Stochastic Outlier Selection          pyod.models.sos.SOS"
      ]
     },
     "execution_count": 18,
     "metadata": {},
     "output_type": "execute_result"
    }
   ],
   "source": [
    "models()"
   ]
  },
  {
   "cell_type": "code",
   "execution_count": 19,
   "metadata": {},
   "outputs": [
    {
     "data": {
      "text/html": [],
      "text/plain": [
       "<IPython.core.display.HTML object>"
      ]
     },
     "metadata": {},
     "output_type": "display_data"
    },
    {
     "data": {
      "text/html": [],
      "text/plain": [
       "<IPython.core.display.HTML object>"
      ]
     },
     "metadata": {},
     "output_type": "display_data"
    },
    {
     "data": {
      "text/html": [],
      "text/plain": [
       "<IPython.core.display.HTML object>"
      ]
     },
     "metadata": {},
     "output_type": "display_data"
    },
    {
     "name": "stdout",
     "output_type": "stream",
     "text": [
      "IForest(behaviour='new', bootstrap=False, contamination=0.05,\n",
      "    max_features=1.0, max_samples='auto', n_estimators=100, n_jobs=-1,\n",
      "    random_state=123, verbose=0)\n"
     ]
    }
   ],
   "source": [
    "iforest = create_model('iforest')\n",
    "print(iforest)"
   ]
  },
  {
   "cell_type": "code",
   "execution_count": 20,
   "metadata": {},
   "outputs": [
    {
     "data": {
      "text/html": [],
      "text/plain": [
       "<IPython.core.display.HTML object>"
      ]
     },
     "metadata": {},
     "output_type": "display_data"
    },
    {
     "data": {
      "text/html": [],
      "text/plain": [
       "<IPython.core.display.HTML object>"
      ]
     },
     "metadata": {},
     "output_type": "display_data"
    },
    {
     "data": {
      "text/html": [],
      "text/plain": [
       "<IPython.core.display.HTML object>"
      ]
     },
     "metadata": {},
     "output_type": "display_data"
    },
    {
     "name": "stdout",
     "output_type": "stream",
     "text": [
      "LOF(algorithm='auto', contamination=0.05, leaf_size=30, metric='minkowski',\n",
      "  metric_params=None, n_jobs=-1, n_neighbors=20, novelty=True, p=2)\n"
     ]
    }
   ],
   "source": [
    "lof = create_model('lof')\n",
    "print(lof)"
   ]
  },
  {
   "cell_type": "code",
   "execution_count": 21,
   "metadata": {},
   "outputs": [
    {
     "data": {
      "text/html": [],
      "text/plain": [
       "<IPython.core.display.HTML object>"
      ]
     },
     "metadata": {},
     "output_type": "display_data"
    },
    {
     "data": {
      "text/html": [],
      "text/plain": [
       "<IPython.core.display.HTML object>"
      ]
     },
     "metadata": {},
     "output_type": "display_data"
    },
    {
     "data": {
      "text/html": [],
      "text/plain": [
       "<IPython.core.display.HTML object>"
      ]
     },
     "metadata": {},
     "output_type": "display_data"
    },
    {
     "name": "stdout",
     "output_type": "stream",
     "text": [
      "KNN(algorithm='auto', contamination=0.05, leaf_size=30, method='largest',\n",
      "  metric='minkowski', metric_params=None, n_jobs=-1, n_neighbors=5, p=2,\n",
      "  radius=1.0)\n"
     ]
    }
   ],
   "source": [
    "knn = create_model('knn')\n",
    "print(knn)"
   ]
  },
  {
   "cell_type": "code",
   "execution_count": 22,
   "metadata": {},
   "outputs": [
    {
     "data": {
      "text/html": [
       "<div>\n",
       "<style scoped>\n",
       "    .dataframe tbody tr th:only-of-type {\n",
       "        vertical-align: middle;\n",
       "    }\n",
       "\n",
       "    .dataframe tbody tr th {\n",
       "        vertical-align: top;\n",
       "    }\n",
       "\n",
       "    .dataframe thead th {\n",
       "        text-align: right;\n",
       "    }\n",
       "</style>\n",
       "<table border=\"1\" class=\"dataframe\">\n",
       "  <thead>\n",
       "    <tr style=\"text-align: right;\">\n",
       "      <th></th>\n",
       "      <th>Col1</th>\n",
       "      <th>Col2</th>\n",
       "      <th>Col3</th>\n",
       "      <th>Col4</th>\n",
       "      <th>Col5</th>\n",
       "      <th>Col6</th>\n",
       "      <th>Col7</th>\n",
       "      <th>Col8</th>\n",
       "      <th>Col9</th>\n",
       "      <th>Col10</th>\n",
       "      <th>Anomaly</th>\n",
       "      <th>Anomaly_Score</th>\n",
       "    </tr>\n",
       "  </thead>\n",
       "  <tbody>\n",
       "    <tr>\n",
       "      <th>0</th>\n",
       "      <td>0.263995</td>\n",
       "      <td>0.764929</td>\n",
       "      <td>0.138424</td>\n",
       "      <td>0.935242</td>\n",
       "      <td>0.605867</td>\n",
       "      <td>0.518790</td>\n",
       "      <td>0.912225</td>\n",
       "      <td>0.608234</td>\n",
       "      <td>0.723782</td>\n",
       "      <td>0.733591</td>\n",
       "      <td>0</td>\n",
       "      <td>-0.035865</td>\n",
       "    </tr>\n",
       "    <tr>\n",
       "      <th>1</th>\n",
       "      <td>0.546092</td>\n",
       "      <td>0.653975</td>\n",
       "      <td>0.065575</td>\n",
       "      <td>0.227772</td>\n",
       "      <td>0.845269</td>\n",
       "      <td>0.837066</td>\n",
       "      <td>0.272379</td>\n",
       "      <td>0.331679</td>\n",
       "      <td>0.429297</td>\n",
       "      <td>0.367422</td>\n",
       "      <td>0</td>\n",
       "      <td>-0.084927</td>\n",
       "    </tr>\n",
       "    <tr>\n",
       "      <th>2</th>\n",
       "      <td>0.336714</td>\n",
       "      <td>0.538842</td>\n",
       "      <td>0.192801</td>\n",
       "      <td>0.553563</td>\n",
       "      <td>0.074515</td>\n",
       "      <td>0.332993</td>\n",
       "      <td>0.365792</td>\n",
       "      <td>0.861309</td>\n",
       "      <td>0.899017</td>\n",
       "      <td>0.088600</td>\n",
       "      <td>1</td>\n",
       "      <td>0.025356</td>\n",
       "    </tr>\n",
       "    <tr>\n",
       "      <th>3</th>\n",
       "      <td>0.092108</td>\n",
       "      <td>0.995017</td>\n",
       "      <td>0.014465</td>\n",
       "      <td>0.176371</td>\n",
       "      <td>0.241530</td>\n",
       "      <td>0.514724</td>\n",
       "      <td>0.562208</td>\n",
       "      <td>0.158963</td>\n",
       "      <td>0.073715</td>\n",
       "      <td>0.208463</td>\n",
       "      <td>1</td>\n",
       "      <td>0.042415</td>\n",
       "    </tr>\n",
       "    <tr>\n",
       "      <th>4</th>\n",
       "      <td>0.325261</td>\n",
       "      <td>0.805968</td>\n",
       "      <td>0.957033</td>\n",
       "      <td>0.331665</td>\n",
       "      <td>0.307923</td>\n",
       "      <td>0.355315</td>\n",
       "      <td>0.501899</td>\n",
       "      <td>0.558449</td>\n",
       "      <td>0.885169</td>\n",
       "      <td>0.182754</td>\n",
       "      <td>0</td>\n",
       "      <td>-0.023408</td>\n",
       "    </tr>\n",
       "  </tbody>\n",
       "</table>\n",
       "</div>"
      ],
      "text/plain": [
       "       Col1      Col2      Col3      Col4      Col5      Col6      Col7  \\\n",
       "0  0.263995  0.764929  0.138424  0.935242  0.605867  0.518790  0.912225   \n",
       "1  0.546092  0.653975  0.065575  0.227772  0.845269  0.837066  0.272379   \n",
       "2  0.336714  0.538842  0.192801  0.553563  0.074515  0.332993  0.365792   \n",
       "3  0.092108  0.995017  0.014465  0.176371  0.241530  0.514724  0.562208   \n",
       "4  0.325261  0.805968  0.957033  0.331665  0.307923  0.355315  0.501899   \n",
       "\n",
       "       Col8      Col9     Col10  Anomaly  Anomaly_Score  \n",
       "0  0.608234  0.723782  0.733591        0      -0.035865  \n",
       "1  0.331679  0.429297  0.367422        0      -0.084927  \n",
       "2  0.861309  0.899017  0.088600        1       0.025356  \n",
       "3  0.158963  0.073715  0.208463        1       0.042415  \n",
       "4  0.558449  0.885169  0.182754        0      -0.023408  "
      ]
     },
     "execution_count": 22,
     "metadata": {},
     "output_type": "execute_result"
    }
   ],
   "source": [
    "iforest_results = assign_model(iforest)\n",
    "iforest_results.head()"
   ]
  },
  {
   "cell_type": "code",
   "execution_count": 23,
   "metadata": {},
   "outputs": [
    {
     "data": {
      "text/html": [
       "<div>\n",
       "<style scoped>\n",
       "    .dataframe tbody tr th:only-of-type {\n",
       "        vertical-align: middle;\n",
       "    }\n",
       "\n",
       "    .dataframe tbody tr th {\n",
       "        vertical-align: top;\n",
       "    }\n",
       "\n",
       "    .dataframe thead th {\n",
       "        text-align: right;\n",
       "    }\n",
       "</style>\n",
       "<table border=\"1\" class=\"dataframe\">\n",
       "  <thead>\n",
       "    <tr style=\"text-align: right;\">\n",
       "      <th></th>\n",
       "      <th>Col1</th>\n",
       "      <th>Col2</th>\n",
       "      <th>Col3</th>\n",
       "      <th>Col4</th>\n",
       "      <th>Col5</th>\n",
       "      <th>Col6</th>\n",
       "      <th>Col7</th>\n",
       "      <th>Col8</th>\n",
       "      <th>Col9</th>\n",
       "      <th>Col10</th>\n",
       "      <th>Anomaly</th>\n",
       "      <th>Anomaly_Score</th>\n",
       "    </tr>\n",
       "  </thead>\n",
       "  <tbody>\n",
       "    <tr>\n",
       "      <th>0</th>\n",
       "      <td>0.263995</td>\n",
       "      <td>0.764929</td>\n",
       "      <td>0.138424</td>\n",
       "      <td>0.935242</td>\n",
       "      <td>0.605867</td>\n",
       "      <td>0.518790</td>\n",
       "      <td>0.912225</td>\n",
       "      <td>0.608234</td>\n",
       "      <td>0.723782</td>\n",
       "      <td>0.733591</td>\n",
       "      <td>0</td>\n",
       "      <td>1.262565</td>\n",
       "    </tr>\n",
       "    <tr>\n",
       "      <th>1</th>\n",
       "      <td>0.546092</td>\n",
       "      <td>0.653975</td>\n",
       "      <td>0.065575</td>\n",
       "      <td>0.227772</td>\n",
       "      <td>0.845269</td>\n",
       "      <td>0.837066</td>\n",
       "      <td>0.272379</td>\n",
       "      <td>0.331679</td>\n",
       "      <td>0.429297</td>\n",
       "      <td>0.367422</td>\n",
       "      <td>0</td>\n",
       "      <td>1.043429</td>\n",
       "    </tr>\n",
       "    <tr>\n",
       "      <th>2</th>\n",
       "      <td>0.336714</td>\n",
       "      <td>0.538842</td>\n",
       "      <td>0.192801</td>\n",
       "      <td>0.553563</td>\n",
       "      <td>0.074515</td>\n",
       "      <td>0.332993</td>\n",
       "      <td>0.365792</td>\n",
       "      <td>0.861309</td>\n",
       "      <td>0.899017</td>\n",
       "      <td>0.088600</td>\n",
       "      <td>0</td>\n",
       "      <td>1.331218</td>\n",
       "    </tr>\n",
       "    <tr>\n",
       "      <th>3</th>\n",
       "      <td>0.092108</td>\n",
       "      <td>0.995017</td>\n",
       "      <td>0.014465</td>\n",
       "      <td>0.176371</td>\n",
       "      <td>0.241530</td>\n",
       "      <td>0.514724</td>\n",
       "      <td>0.562208</td>\n",
       "      <td>0.158963</td>\n",
       "      <td>0.073715</td>\n",
       "      <td>0.208463</td>\n",
       "      <td>1</td>\n",
       "      <td>1.591832</td>\n",
       "    </tr>\n",
       "    <tr>\n",
       "      <th>4</th>\n",
       "      <td>0.325261</td>\n",
       "      <td>0.805968</td>\n",
       "      <td>0.957033</td>\n",
       "      <td>0.331665</td>\n",
       "      <td>0.307923</td>\n",
       "      <td>0.355315</td>\n",
       "      <td>0.501899</td>\n",
       "      <td>0.558449</td>\n",
       "      <td>0.885169</td>\n",
       "      <td>0.182754</td>\n",
       "      <td>0</td>\n",
       "      <td>1.223609</td>\n",
       "    </tr>\n",
       "  </tbody>\n",
       "</table>\n",
       "</div>"
      ],
      "text/plain": [
       "       Col1      Col2      Col3      Col4      Col5      Col6      Col7  \\\n",
       "0  0.263995  0.764929  0.138424  0.935242  0.605867  0.518790  0.912225   \n",
       "1  0.546092  0.653975  0.065575  0.227772  0.845269  0.837066  0.272379   \n",
       "2  0.336714  0.538842  0.192801  0.553563  0.074515  0.332993  0.365792   \n",
       "3  0.092108  0.995017  0.014465  0.176371  0.241530  0.514724  0.562208   \n",
       "4  0.325261  0.805968  0.957033  0.331665  0.307923  0.355315  0.501899   \n",
       "\n",
       "       Col8      Col9     Col10  Anomaly  Anomaly_Score  \n",
       "0  0.608234  0.723782  0.733591        0       1.262565  \n",
       "1  0.331679  0.429297  0.367422        0       1.043429  \n",
       "2  0.861309  0.899017  0.088600        0       1.331218  \n",
       "3  0.158963  0.073715  0.208463        1       1.591832  \n",
       "4  0.558449  0.885169  0.182754        0       1.223609  "
      ]
     },
     "execution_count": 23,
     "metadata": {},
     "output_type": "execute_result"
    }
   ],
   "source": [
    "lof_results = assign_model(lof)\n",
    "lof_results.head()"
   ]
  },
  {
   "cell_type": "code",
   "execution_count": 24,
   "metadata": {},
   "outputs": [
    {
     "data": {
      "text/html": [
       "<div>\n",
       "<style scoped>\n",
       "    .dataframe tbody tr th:only-of-type {\n",
       "        vertical-align: middle;\n",
       "    }\n",
       "\n",
       "    .dataframe tbody tr th {\n",
       "        vertical-align: top;\n",
       "    }\n",
       "\n",
       "    .dataframe thead th {\n",
       "        text-align: right;\n",
       "    }\n",
       "</style>\n",
       "<table border=\"1\" class=\"dataframe\">\n",
       "  <thead>\n",
       "    <tr style=\"text-align: right;\">\n",
       "      <th></th>\n",
       "      <th>Col1</th>\n",
       "      <th>Col2</th>\n",
       "      <th>Col3</th>\n",
       "      <th>Col4</th>\n",
       "      <th>Col5</th>\n",
       "      <th>Col6</th>\n",
       "      <th>Col7</th>\n",
       "      <th>Col8</th>\n",
       "      <th>Col9</th>\n",
       "      <th>Col10</th>\n",
       "      <th>Anomaly</th>\n",
       "      <th>Anomaly_Score</th>\n",
       "    </tr>\n",
       "  </thead>\n",
       "  <tbody>\n",
       "    <tr>\n",
       "      <th>0</th>\n",
       "      <td>0.263995</td>\n",
       "      <td>0.764929</td>\n",
       "      <td>0.138424</td>\n",
       "      <td>0.935242</td>\n",
       "      <td>0.605867</td>\n",
       "      <td>0.518790</td>\n",
       "      <td>0.912225</td>\n",
       "      <td>0.608234</td>\n",
       "      <td>0.723782</td>\n",
       "      <td>0.733591</td>\n",
       "      <td>0</td>\n",
       "      <td>0.569672</td>\n",
       "    </tr>\n",
       "    <tr>\n",
       "      <th>1</th>\n",
       "      <td>0.546092</td>\n",
       "      <td>0.653975</td>\n",
       "      <td>0.065575</td>\n",
       "      <td>0.227772</td>\n",
       "      <td>0.845269</td>\n",
       "      <td>0.837066</td>\n",
       "      <td>0.272379</td>\n",
       "      <td>0.331679</td>\n",
       "      <td>0.429297</td>\n",
       "      <td>0.367422</td>\n",
       "      <td>0</td>\n",
       "      <td>0.484217</td>\n",
       "    </tr>\n",
       "    <tr>\n",
       "      <th>2</th>\n",
       "      <td>0.336714</td>\n",
       "      <td>0.538842</td>\n",
       "      <td>0.192801</td>\n",
       "      <td>0.553563</td>\n",
       "      <td>0.074515</td>\n",
       "      <td>0.332993</td>\n",
       "      <td>0.365792</td>\n",
       "      <td>0.861309</td>\n",
       "      <td>0.899017</td>\n",
       "      <td>0.088600</td>\n",
       "      <td>1</td>\n",
       "      <td>0.691915</td>\n",
       "    </tr>\n",
       "    <tr>\n",
       "      <th>3</th>\n",
       "      <td>0.092108</td>\n",
       "      <td>0.995017</td>\n",
       "      <td>0.014465</td>\n",
       "      <td>0.176371</td>\n",
       "      <td>0.241530</td>\n",
       "      <td>0.514724</td>\n",
       "      <td>0.562208</td>\n",
       "      <td>0.158963</td>\n",
       "      <td>0.073715</td>\n",
       "      <td>0.208463</td>\n",
       "      <td>1</td>\n",
       "      <td>0.811600</td>\n",
       "    </tr>\n",
       "    <tr>\n",
       "      <th>4</th>\n",
       "      <td>0.325261</td>\n",
       "      <td>0.805968</td>\n",
       "      <td>0.957033</td>\n",
       "      <td>0.331665</td>\n",
       "      <td>0.307923</td>\n",
       "      <td>0.355315</td>\n",
       "      <td>0.501899</td>\n",
       "      <td>0.558449</td>\n",
       "      <td>0.885169</td>\n",
       "      <td>0.182754</td>\n",
       "      <td>0</td>\n",
       "      <td>0.634337</td>\n",
       "    </tr>\n",
       "  </tbody>\n",
       "</table>\n",
       "</div>"
      ],
      "text/plain": [
       "       Col1      Col2      Col3      Col4      Col5      Col6      Col7  \\\n",
       "0  0.263995  0.764929  0.138424  0.935242  0.605867  0.518790  0.912225   \n",
       "1  0.546092  0.653975  0.065575  0.227772  0.845269  0.837066  0.272379   \n",
       "2  0.336714  0.538842  0.192801  0.553563  0.074515  0.332993  0.365792   \n",
       "3  0.092108  0.995017  0.014465  0.176371  0.241530  0.514724  0.562208   \n",
       "4  0.325261  0.805968  0.957033  0.331665  0.307923  0.355315  0.501899   \n",
       "\n",
       "       Col8      Col9     Col10  Anomaly  Anomaly_Score  \n",
       "0  0.608234  0.723782  0.733591        0       0.569672  \n",
       "1  0.331679  0.429297  0.367422        0       0.484217  \n",
       "2  0.861309  0.899017  0.088600        1       0.691915  \n",
       "3  0.158963  0.073715  0.208463        1       0.811600  \n",
       "4  0.558449  0.885169  0.182754        0       0.634337  "
      ]
     },
     "execution_count": 24,
     "metadata": {},
     "output_type": "execute_result"
    }
   ],
   "source": [
    "knn_results = assign_model(knn)\n",
    "knn_results.head()"
   ]
  },
  {
   "cell_type": "code",
   "execution_count": 25,
   "metadata": {},
   "outputs": [
    {
     "data": {
      "text/plain": [
       "(50, 12)"
      ]
     },
     "execution_count": 25,
     "metadata": {},
     "output_type": "execute_result"
    }
   ],
   "source": [
    "iforest_anomaly=iforest_results[iforest_results['Anomaly']==1]\n",
    "iforest_anomaly.shape"
   ]
  },
  {
   "cell_type": "code",
   "execution_count": 26,
   "metadata": {},
   "outputs": [
    {
     "data": {
      "text/plain": [
       "(50, 12)"
      ]
     },
     "execution_count": 26,
     "metadata": {},
     "output_type": "execute_result"
    }
   ],
   "source": [
    "lof_anomaly=lof_results[lof_results['Anomaly']==1]\n",
    "lof_anomaly.shape"
   ]
  },
  {
   "cell_type": "code",
   "execution_count": 27,
   "metadata": {},
   "outputs": [
    {
     "data": {
      "text/plain": [
       "(50, 12)"
      ]
     },
     "execution_count": 27,
     "metadata": {},
     "output_type": "execute_result"
    }
   ],
   "source": [
    "knn_anomaly=knn_results[knn_results['Anomaly']==1]\n",
    "knn_anomaly.shape"
   ]
  },
  {
   "cell_type": "code",
   "execution_count": 28,
   "metadata": {},
   "outputs": [
    {
     "data": {
      "image/png": "[encoded data removed]",
      "text/plain": [
       "<Figure size 1000x800 with 1 Axes>"
      ]
     },
     "metadata": {},
     "output_type": "display_data"
    },
    {
     "data": {
      "text/plain": [
       "<AxesSubplot: title={'center': 't-SNE Manifold (fit in 2.34 seconds)'}, xlabel='Using 10 features'>"
      ]
     },
     "execution_count": 28,
     "metadata": {},
     "output_type": "execute_result"
    }
   ],
   "source": [
    "from yellowbrick.features import Manifold\n",
    "dfr = iforest_results['Anomaly']\n",
    "viz = Manifold(manifold=\"tsne\")\n",
    "viz.fit_transform(df, dfr)\n",
    "viz.show()"
   ]
  },
  {
   "cell_type": "code",
   "execution_count": 29,
   "metadata": {},
   "outputs": [
    {
     "data": {
      "text/html": [],
      "text/plain": [
       "<IPython.core.display.HTML object>"
      ]
     },
     "metadata": {},
     "output_type": "display_data"
    },
    {
     "data": {
      "application/vnd.plotly.v1+json": {
       "config": {
        "plotlyServerURL": "https://plot.ly"
       },
       "data": [
        {
         "customdata": [
          [
           0.26399535
          ],
          [
           0.54609233
          ],
          [
           0.33671412
          ],
          [
           0.09210783
          ],
          [
           0.32526118
          ],
          [
           0.21246485
          ],
          [
           0.25856572
          ],
          [
           0.86923677
          ],
          [
           0.19707796
          ],
          [
           0.29298452
          ],
          [
           0.8217832
          ],
          [
           0.79662293
          ],
          [
           0.045577012
          ],
          [
           0.61366034
          ],
          [
           0.95074457
          ],
          [
           0.33634633
          ],
          [
           0.034440666
          ],
          [
           0.74154425
          ],
          [
           0.18443266
          ],
          [
           0.66451496
          ],
          [
           0.16282485
          ],
          [
           0.72983843
          ],
          [
           0.62837386
          ],
          [
           0.05788366
          ],
          [
           0.44553483
          ],
          [
           0.80183697
          ],
          [
           0.27709612
          ],
          [
           0.22863401
          ],
          [
           0.8348607
          ],
          [
           0.6697665
          ],
          [
           0.5325273
          ],
          [
           0.17045908
          ],
          [
           0.5102885
          ],
          [
           0.977562
          ],
          [
           0.24977599
          ],
          [
           0.9755007
          ],
          [
           0.6137017
          ],
          [
           0.16742036
          ],
          [
           0.5374725
          ],
          [
           0.37989914
          ],
          [
           0.6338973
          ],
          [
           0.6339604
          ],
          [
           0.5499747
          ],
          [
           0.17817299
          ],
          [
           0.85563815
          ],
          [
           0.3217967
          ],
          [
           0.8174905
          ],
          [
           0.25487942
          ],
          [
           0.3441405
          ],
          [
           0.8061457
          ],
          [
           0.27708167
          ],
          [
           0.5443285
          ],
          [
           0.07708393
          ],
          [
           0.27308145
          ],
          [
           0.39087734
          ],
          [
           0.3496214
          ],
          [
           0.21454975
          ],
          [
           0.20607522
          ],
          [
           0.86462
          ],
          [
           0.9817088
          ],
          [
           0.33482966
          ],
          [
           0.6483871
          ],
          [
           0.09364356
          ],
          [
           0.8378027
          ],
          [
           0.76034397
          ],
          [
           0.2914042
          ],
          [
           0.3413454
          ],
          [
           0.7611125
          ],
          [
           0.5418998
          ],
          [
           0.6841766
          ],
          [
           0.9835356
          ],
          [
           0.52081245
          ],
          [
           0.32822773
          ],
          [
           0.09715794
          ],
          [
           0.8760886
          ],
          [
           0.8702145
          ],
          [
           0.656087
          ],
          [
           0.3067915
          ],
          [
           0.48126733
          ],
          [
           0.25955918
          ],
          [
           0.32612365
          ],
          [
           0.93056804
          ],
          [
           0.6583894
          ],
          [
           0.6899923
          ],
          [
           0.31578112
          ],
          [
           0.5669051
          ],
          [
           0.63752663
          ],
          [
           0.6875407
          ],
          [
           0.3243006
          ],
          [
           0.5927049
          ],
          [
           0.74025315
          ],
          [
           0.5940329
          ],
          [
           0.59645295
          ],
          [
           0.2776808
          ],
          [
           0.25832966
          ],
          [
           0.14246087
          ],
          [
           0.43553346
          ],
          [
           0.70249903
          ],
          [
           0.58897537
          ],
          [
           0.6533044
          ],
          [
           0.3369685
          ],
          [
           0.6312447
          ],
          [
           0.7353008
          ],
          [
           0.050390366
          ],
          [
           0.06426492
          ],
          [
           0.6653595
          ],
          [
           0.91783524
          ],
          [
           0.4465101
          ],
          [
           0.6619382
          ],
          [
           0.43935984
          ],
          [
           0.6875724
          ],
          [
           0.36346224
          ],
          [
           0.6542622
          ],
          [
           0.57855356
          ],
          [
           0.065927945
          ],
          [
           0.55014855
          ],
          [
           0.13918282
          ],
          [
           0.08000463
          ],
          [
           0.27822837
          ],
          [
           0.5601243
          ],
          [
           0.53639865
          ],
          [
           0.4265319
          ],
          [
           0.78910977
          ],
          [
           0.7429005
          ],
          [
           0.90169257
          ],
          [
           0.6503374
          ],
          [
           0.11405731
          ],
          [
           0.26081258
          ],
          [
           0.43991232
          ],
          [
           0.9644093
          ],
          [
           0.18440141
          ],
          [
           0.34514543
          ],
          [
           0.17589459
          ],
          [
           0.31251445
          ],
          [
           0.6741319
          ],
          [
           0.32825044
          ],
          [
           0.5982311
          ],
          [
           0.09259882
          ],
          [
           0.49791652
          ],
          [
           0.41977653
          ],
          [
           0.3121767
          ],
          [
           0.9378571
          ],
          [
           0.049030963
          ],
          [
           0.47610453
          ],
          [
           0.44739753
          ],
          [
           0.29580605
          ],
          [
           0.737364
          ],
          [
           0.6258963
          ],
          [
           0.40881342
          ],
          [
           0.43751115
          ],
          [
           0.69135135
          ],
          [
           0.9355553
          ],
          [
           0.43784666
          ],
          [
           0.07221772
          ],
          [
           0.67636067
          ],
          [
           0.468884
          ],
          [
           0.5438206
          ],
          [
           0.65552264
          ],
          [
           0.69352895
          ],
          [
           0.108878314
          ],
          [
           0.28546375
          ],
          [
           0
          ],
          [
           0.7064955
          ],
          [
           0.27353063
          ],
          [
           0.29232028
          ],
          [
           0.6739843
          ],
          [
           0.12612183
          ],
          [
           0.9467075
          ],
          [
           0.9363389
          ],
          [
           0.85375535
          ],
          [
           0.7060714
          ],
          [
           0.6936822
          ],
          [
           0.5085279
          ],
          [
           0.34717038
          ],
          [
           0.70415425
          ],
          [
           0.6587301
          ],
          [
           0.15584156
          ],
          [
           0.31108543
          ],
          [
           0.28113535
          ],
          [
           0.0945878
          ],
          [
           0.683261
          ],
          [
           0.90772927
          ],
          [
           0.29151267
          ],
          [
           0.7527345
          ],
          [
           0.93482965
          ],
          [
           0.07141396
          ],
          [
           0.5948963
          ],
          [
           0.40467203
          ],
          [
           0.1383762
          ],
          [
           0.7473385
          ],
          [
           0.5308825
          ],
          [
           0.2826496
          ],
          [
           0.69933575
          ],
          [
           0.05611125
          ],
          [
           0.855235
          ],
          [
           0.07789513
          ],
          [
           0.8916496
          ],
          [
           0.3867423
          ],
          [
           0.27113158
          ],
          [
           0.95888895
          ],
          [
           0.08512087
          ],
          [
           0.52690226
          ],
          [
           0.066577785
          ],
          [
           0.8415067
          ],
          [
           0.2553421
          ],
          [
           0.060545772
          ],
          [
           0.07338587
          ],
          [
           0.18749373
          ],
          [
           0.8583657
          ],
          [
           0.09064035
          ],
          [
           0.7097252
          ],
          [
           0.6313006
          ],
          [
           0.24750447
          ],
          [
           0.8228436
          ],
          [
           0.37347677
          ],
          [
           0.6255386
          ],
          [
           0.2929517
          ],
          [
           0.29973033
          ],
          [
           0.25121406
          ],
          [
           0.34448054
          ],
          [
           0.29306477
          ],
          [
           0.7628032
          ],
          [
           0.7384708
          ],
          [
           0.67488325
          ],
          [
           0.7191516
          ],
          [
           0.13098022
          ],
          [
           0.51132804
          ],
          [
           0.04492903
          ],
          [
           0.56091446
          ],
          [
           0.74404067
          ],
          [
           0.26696163
          ],
          [
           0.64423186
          ],
          [
           0.038113352
          ],
          [
           0.0571553
          ],
          [
           0.34139246
          ],
          [
           0.72046363
          ],
          [
           0.40287822
          ],
          [
           0.63514894
          ],
          [
           0.32072946
          ],
          [
           0.091209695
          ],
          [
           0.23414609
          ],
          [
           0.8902211
          ],
          [
           0.6021709
          ],
          [
           0.63365203
          ],
          [
           0.80624086
          ],
          [
           0.7397312
          ],
          [
           0.46523127
          ],
          [
           0.7321109
          ],
          [
           0.3738743
          ],
          [
           0.5015879
          ],
          [
           0.115383156
          ],
          [
           0.7319466
          ],
          [
           0.41829872
          ],
          [
           0.062259592
          ],
          [
           0.3914964
          ],
          [
           0.3598493
          ],
          [
           0.24523562
          ],
          [
           0.6100283
          ],
          [
           0.43540362
          ],
          [
           0.43430966
          ],
          [
           0.52376336
          ],
          [
           0.17118786
          ],
          [
           0.1877343
          ],
          [
           0.94501466
          ],
          [
           0.027851097
          ],
          [
           0.68445706
          ],
          [
           0.17801453
          ],
          [
           0.6434279
          ],
          [
           0.59588355
          ],
          [
           0.3723617
          ],
          [
           0.58610356
          ],
          [
           0.27165884
          ],
          [
           0.5995111
          ],
          [
           0.46836308
          ],
          [
           0.31451556
          ],
          [
           0.21893726
          ],
          [
           0.25471658
          ],
          [
           0.25612816
          ],
          [
           0.60225976
          ],
          [
           0.13438107
          ],
          [
           0.5138874
          ],
          [
           0.62424165
          ],
          [
           0.16025186
          ],
          [
           0.5807081
          ],
          [
           0.27054048
          ],
          [
           0.83291996
          ],
          [
           0.93032134
          ],
          [
           0.7191579
          ],
          [
           0.88672006
          ],
          [
           0.09879228
          ],
          [
           0.7871743
          ],
          [
           0.3655924
          ],
          [
           0.7195762
          ],
          [
           0.8058956
          ],
          [
           0.75557834
          ],
          [
           0.5260059
          ],
          [
           0.68880427
          ],
          [
           0.2211153
          ],
          [
           0.73936945
          ],
          [
           0.40844023
          ],
          [
           0.34892654
          ],
          [
           0.43371376
          ],
          [
           0.5964966
          ],
          [
           0.6942953
          ],
          [
           0.709031
          ],
          [
           0.867653
          ],
          [
           0.89332545
          ],
          [
           0.7460209
          ],
          [
           0.5382844
          ],
          [
           0.8922193
          ],
          [
           0.9351758
          ],
          [
           0.2605277
          ],
          [
           0.95678043
          ],
          [
           0.20493248
          ],
          [
           0.68773335
          ],
          [
           0.32906362
          ],
          [
           0.6321498
          ],
          [
           0.4637445
          ],
          [
           0.69885963
          ],
          [
           0.38544658
          ],
          [
           0.47997537
          ],
          [
           0.7322791
          ],
          [
           0.3813543
          ],
          [
           0.459326
          ],
          [
           0.25740144
          ],
          [
           0.6650148
          ],
          [
           0.103399545
          ],
          [
           0.42528442
          ],
          [
           0.94352907
          ],
          [
           0.5947502
          ],
          [
           0.5437768
          ],
          [
           0.18203989
          ],
          [
           0.23584208
          ],
          [
           0.58598447
          ],
          [
           0.7620132
          ],
          [
           0.6849829
          ],
          [
           0.6769369
          ],
          [
           0.29018497
          ],
          [
           0.48106822
          ],
          [
           0.49276602
          ],
          [
           0.22185624
          ],
          [
           0.053875998
          ],
          [
           0.08275115
          ],
          [
           0.38536623
          ],
          [
           0.70251393
          ],
          [
           0.9155316
          ],
          [
           0.082087435
          ],
          [
           0.25128037
          ],
          [
           0.41672182
          ],
          [
           0.27703267
          ],
          [
           0.5795398
          ],
          [
           0.5693635
          ],
          [
           0.13339971
          ],
          [
           0.26504546
          ],
          [
           0.9365719
          ],
          [
           0.25261855
          ],
          [
           0.054033082
          ],
          [
           0.8024814
          ],
          [
           0.5281977
          ],
          [
           0.9515026
          ],
          [
           0.57212114
          ],
          [
           0.7529382
          ],
          [
           0.14385754
          ],
          [
           0.5134846
          ],
          [
           0.3133224
          ],
          [
           0.68779737
          ],
          [
           0.37705985
          ],
          [
           0.34822613
          ],
          [
           0.6776328
          ],
          [
           0.24138752
          ],
          [
           0.8506502
          ],
          [
           0.2203481
          ],
          [
           0.47644547
          ],
          [
           0.690324
          ],
          [
           0.36469594
          ],
          [
           0.6492492
          ],
          [
           0.9437019
          ],
          [
           0.529646
          ],
          [
           0.299097
          ],
          [
           0.96696246
          ],
          [
           0.27200523
          ],
          [
           0.31416145
          ],
          [
           0.752021
          ],
          [
           0.22188245
          ],
          [
           0.7203327
          ],
          [
           0.37920478
          ],
          [
           0.60168654
          ],
          [
           0.58293265
          ],
          [
           0.95080984
          ],
          [
           0.5883014
          ],
          [
           0.8808872
          ],
          [
           0.4678577
          ],
          [
           0.8799022
          ],
          [
           0.619844
          ],
          [
           0.35900256
          ],
          [
           0.29151127
          ],
          [
           0.6941571
          ],
          [
           0.72796035
          ],
          [
           0.6177039
          ],
          [
           0.39581257
          ],
          [
           0.5831728
          ],
          [
           0.7103324
          ],
          [
           0.2537537
          ],
          [
           0.04941223
          ],
          [
           0.7283787
          ],
          [
           0.4324329
          ],
          [
           0.58612347
          ],
          [
           0.052342374
          ],
          [
           0.053483903
          ],
          [
           0.5187294
          ],
          [
           0.9330402
          ],
          [
           0.7035543
          ],
          [
           0.2689899
          ],
          [
           0.73300695
          ],
          [
           0.44435248
          ],
          [
           0.58339465
          ],
          [
           0.87117267
          ],
          [
           0.42876709
          ],
          [
           0.30046085
          ],
          [
           0.95332944
          ],
          [
           0.60644394
          ],
          [
           0.9098681
          ],
          [
           0.71489644
          ],
          [
           0.4973495
          ],
          [
           0.8530975
          ],
          [
           0.72180414
          ],
          [
           0.30346733
          ],
          [
           0.6644851
          ],
          [
           0.27978063
          ],
          [
           0.5694817
          ],
          [
           0.6286289
          ],
          [
           0.088368125
          ],
          [
           0.7335673
          ],
          [
           0.5374368
          ],
          [
           0.6385937
          ],
          [
           0.95472693
          ],
          [
           0.6322023
          ],
          [
           0.64213467
          ],
          [
           0.7446531
          ],
          [
           0.115714006
          ],
          [
           0.48625007
          ],
          [
           0.44035614
          ],
          [
           0.08272289
          ],
          [
           0.511591
          ],
          [
           0.39462754
          ],
          [
           0.224394
          ],
          [
           0.62692755
          ],
          [
           0.29025406
          ],
          [
           0.77900803
          ],
          [
           0.8661058
          ],
          [
           0.87332606
          ],
          [
           0.49548915
          ],
          [
           0.5942977
          ],
          [
           0.91820157
          ],
          [
           0.57704276
          ],
          [
           0.01946767
          ],
          [
           0.6702983
          ],
          [
           0.54659534
          ],
          [
           0.59166515
          ],
          [
           0.4215582
          ],
          [
           0.68560857
          ],
          [
           0.34030303
          ],
          [
           0.67562675
          ],
          [
           0.31906736
          ],
          [
           0.38849968
          ],
          [
           0.7069496
          ],
          [
           0.5594095
          ],
          [
           0.6876635
          ],
          [
           0.70880455
          ],
          [
           0.6818881
          ],
          [
           0.42253512
          ],
          [
           0.3200046
          ],
          [
           0.6582814
          ],
          [
           0.63415486
          ],
          [
           0.777332
          ],
          [
           0.8126772
          ],
          [
           0.0742808
          ],
          [
           0.39600217
          ],
          [
           0.054933913
          ],
          [
           0.82505894
          ],
          [
           0.382642
          ],
          [
           0.8687298
          ],
          [
           0.58804333
          ],
          [
           0.89155155
          ],
          [
           0.10920046
          ],
          [
           0.6476828
          ],
          [
           0.7243425
          ],
          [
           0.07016304
          ],
          [
           0.28088206
          ],
          [
           0.03911326
          ],
          [
           0.5796416
          ],
          [
           0.6390009
          ],
          [
           0.2817459
          ],
          [
           0.6478577
          ],
          [
           0.6479058
          ],
          [
           0.87522626
          ],
          [
           0.5676033
          ],
          [
           0.2629406
          ],
          [
           0.26802605
          ],
          [
           0.40519133
          ],
          [
           0.47996545
          ],
          [
           0.33552402
          ],
          [
           0.77716535
          ],
          [
           0.42548797
          ],
          [
           0.23798612
          ],
          [
           0.14252298
          ],
          [
           0.72417647
          ],
          [
           0.23469894
          ],
          [
           0.07818228
          ],
          [
           0.8559902
          ],
          [
           0.27025175
          ],
          [
           0.43551785
          ],
          [
           0.7626975
          ],
          [
           0.46448725
          ],
          [
           0.39611268
          ],
          [
           0.37638092
          ],
          [
           0.29459468
          ],
          [
           0.6944921
          ],
          [
           0.6227679
          ],
          [
           0.84755975
          ],
          [
           0.30146307
          ],
          [
           0.9129378
          ],
          [
           0.50001717
          ],
          [
           0.90258795
          ],
          [
           0.30451795
          ],
          [
           0.29916567
          ],
          [
           0.09201409
          ],
          [
           0.4885489
          ],
          [
           0.66466445
          ],
          [
           0.26534954
          ],
          [
           0.723657
          ],
          [
           0.14926238
          ],
          [
           0.04577339
          ],
          [
           0.6966106
          ],
          [
           0.42181486
          ],
          [
           0.7338458
          ],
          [
           0.41879538
          ],
          [
           0.6774435
          ],
          [
           0.2612836
          ],
          [
           0.26852778
          ],
          [
           0.54432225
          ],
          [
           0.43163204
          ],
          [
           0.9810181
          ],
          [
           0.21498072
          ],
          [
           0.39473
          ],
          [
           0.12222494
          ],
          [
           0.29749689
          ],
          [
           0.37490442
          ],
          [
           0.6869877
          ],
          [
           0.3885492
          ],
          [
           0.039296072
          ],
          [
           0.73553425
          ],
          [
           0.3792949
          ],
          [
           0.7321234
          ],
          [
           0.33922145
          ],
          [
           0.6594506
          ],
          [
           0.054838642
          ],
          [
           0.6401121
          ],
          [
           0.3071417
          ],
          [
           0.3966119
          ],
          [
           0.42043915
          ],
          [
           0.24171497
          ],
          [
           0.06589315
          ],
          [
           0.9105219
          ],
          [
           0.6971631
          ],
          [
           0.072559856
          ],
          [
           0.81825095
          ],
          [
           0.3118888
          ],
          [
           0.9616446
          ],
          [
           0.81632555
          ],
          [
           0.14647302
          ],
          [
           0.5487539
          ],
          [
           0.9461581
          ],
          [
           0.29399273
          ],
          [
           0.33147964
          ],
          [
           0.90622
          ],
          [
           0.5255404
          ],
          [
           0.83301413
          ],
          [
           0.5148498
          ],
          [
           0.57460904
          ],
          [
           0.46871185
          ],
          [
           0.71002775
          ],
          [
           0.64597327
          ],
          [
           0.22979441
          ],
          [
           0.5517834
          ],
          [
           0.05582299
          ],
          [
           0.33175093
          ],
          [
           0.7155202
          ],
          [
           0.58392435
          ],
          [
           0.3069577
          ],
          [
           0.7914782
          ],
          [
           0.16423663
          ],
          [
           0.06571122
          ],
          [
           0.94899315
          ],
          [
           0.08042383
          ],
          [
           0.052495427
          ],
          [
           0.5663461
          ],
          [
           0.3630266
          ],
          [
           0.60544217
          ],
          [
           0.6308506
          ],
          [
           0.065791234
          ],
          [
           0.28681707
          ],
          [
           0.68546283
          ],
          [
           0.2608537
          ],
          [
           0.6591224
          ],
          [
           0.44317392
          ],
          [
           0.602064
          ],
          [
           0.06036691
          ],
          [
           0.78190315
          ],
          [
           0.51457983
          ],
          [
           0.4838862
          ],
          [
           0.6002138
          ],
          [
           0.49736404
          ],
          [
           0.41114524
          ],
          [
           0.11699917
          ],
          [
           0.34189013
          ],
          [
           0.74695086
          ],
          [
           0.39629275
          ],
          [
           0.62214386
          ],
          [
           0.33527115
          ],
          [
           0.14025714
          ],
          [
           0.08162068
          ],
          [
           0.06983757
          ],
          [
           0.46894002
          ],
          [
           0.9908574
          ],
          [
           0.8966168
          ],
          [
           0.25531057
          ],
          [
           0.22464527
          ],
          [
           0.01991825
          ],
          [
           0.29648042
          ],
          [
           0.155459
          ],
          [
           0.57791674
          ],
          [
           0.95630306
          ],
          [
           0.8134644
          ],
          [
           0.5296758
          ],
          [
           0.28767136
          ],
          [
           0.48039135
          ],
          [
           0.2810448
          ],
          [
           0.63319653
          ],
          [
           0.09332538
          ],
          [
           0.284474
          ],
          [
           0.052223776
          ],
          [
           0.051129386
          ],
          [
           0.9674056
          ],
          [
           0.040045727
          ],
          [
           0.9085829
          ],
          [
           0.6621174
          ],
          [
           0.4247032
          ],
          [
           0.7220781
          ],
          [
           0.6661933
          ],
          [
           0.5096812
          ],
          [
           0.7513536
          ],
          [
           0.27907312
          ],
          [
           0.074927
          ],
          [
           0.91635954
          ],
          [
           0.31040326
          ],
          [
           0.71660405
          ],
          [
           0.4855871
          ],
          [
           0.3060752
          ],
          [
           0.4775582
          ],
          [
           0.71192396
          ],
          [
           0.066348635
          ],
          [
           0.27453935
          ],
          [
           0.31082252
          ],
          [
           0.47607312
          ],
          [
           0.18679556
          ],
          [
           0.26654208
          ],
          [
           0.07023114
          ],
          [
           0.26951927
          ],
          [
           0.8000047
          ],
          [
           0.27363366
          ],
          [
           0.14647919
          ],
          [
           0.37831897
          ],
          [
           0.37384906
          ],
          [
           0.24217084
          ],
          [
           0.2497965
          ],
          [
           0.06659119
          ],
          [
           0.3729568
          ],
          [
           0.5018123
          ],
          [
           0.31309775
          ],
          [
           0.8802022
          ],
          [
           0.5198189
          ],
          [
           0.36413875
          ],
          [
           0.4926829
          ],
          [
           0.28573266
          ],
          [
           0.89011496
          ],
          [
           0.31641957
          ],
          [
           0.26866353
          ],
          [
           0.77197593
          ],
          [
           0.968889
          ],
          [
           0.08033438
          ],
          [
           0.7368282
          ],
          [
           0.30055806
          ],
          [
           0.9179504
          ],
          [
           0.46581504
          ],
          [
           0.05403668
          ],
          [
           0.96315014
          ],
          [
           0.0896535
          ],
          [
           0.7076932
          ],
          [
           0.636416
          ],
          [
           0.5395211
          ],
          [
           0.11475716
          ],
          [
           0.3573124
          ],
          [
           0.67639834
          ],
          [
           0.4348284
          ],
          [
           0.032326385
          ],
          [
           0.7113656
          ],
          [
           0.18748651
          ],
          [
           0.052789655
          ],
          [
           0.5058636
          ],
          [
           0.9274319
          ],
          [
           0.68098426
          ],
          [
           0.8828222
          ],
          [
           0.49570546
          ],
          [
           0.5962404
          ],
          [
           0.3206107
          ],
          [
           0.3413685
          ],
          [
           0.1596818
          ],
          [
           0.31813368
          ],
          [
           0.83930105
          ],
          [
           0.06435925
          ],
          [
           0.47021663
          ],
          [
           0.77625227
          ],
          [
           0.6358434
          ],
          [
           0.62510544
          ],
          [
           0.52959067
          ],
          [
           0.98690015
          ],
          [
           0.078585684
          ],
          [
           0.23328426
          ],
          [
           0.36333096
          ],
          [
           0.716717
          ],
          [
           0.37588978
          ],
          [
           0.2233169
          ],
          [
           0.29934397
          ],
          [
           0.5385958
          ],
          [
           0.73029715
          ],
          [
           0.6603308
          ],
          [
           0.435296
          ],
          [
           0.3264943
          ],
          [
           0.8544027
          ],
          [
           0.57349384
          ],
          [
           0.75778615
          ],
          [
           0.7047432
          ],
          [
           0.2815756
          ],
          [
           0.6719682
          ],
          [
           0.313726
          ],
          [
           0.36433828
          ],
          [
           0.3682164
          ],
          [
           0.3862952
          ],
          [
           0.6559719
          ],
          [
           0.56602526
          ],
          [
           0.4249991
          ],
          [
           0.09011037
          ],
          [
           0.77235055
          ],
          [
           0.33104727
          ],
          [
           0.27371618
          ],
          [
           0.23877569
          ],
          [
           0.37307978
          ],
          [
           0.33118588
          ],
          [
           0.25613454
          ],
          [
           0.6783732
          ],
          [
           0.43463835
          ],
          [
           0.65466833
          ],
          [
           0.98668104
          ],
          [
           0.3715205
          ],
          [
           0.40835962
          ],
          [
           0.40932366
          ],
          [
           0.28341207
          ],
          [
           0.39524654
          ],
          [
           0.010984428
          ],
          [
           0.30601388
          ],
          [
           0.26619482
          ],
          [
           0.29931852
          ],
          [
           0.31829396
          ],
          [
           0.7428259
          ],
          [
           0.09766433
          ],
          [
           0.07966694
          ],
          [
           0.6132588
          ],
          [
           0.9944307
          ],
          [
           0.5688351
          ],
          [
           0.7080345
          ],
          [
           0.3705927
          ],
          [
           0.66986734
          ],
          [
           0.6512956
          ],
          [
           0.46253157
          ],
          [
           0.7196256
          ],
          [
           0.4537725
          ],
          [
           0.39486393
          ],
          [
           0.32397482
          ],
          [
           0.14645472
          ],
          [
           0.77906704
          ],
          [
           0.4018289
          ],
          [
           0.6014796
          ],
          [
           0.856423
          ],
          [
           0.56524295
          ],
          [
           0.3012251
          ],
          [
           0.28210816
          ],
          [
           0.594378
          ],
          [
           0.7053124
          ],
          [
           0.54086965
          ],
          [
           0.31924957
          ],
          [
           0.36176613
          ],
          [
           0.6250007
          ],
          [
           0.3162874
          ],
          [
           0.04723902
          ],
          [
           0.8011822
          ],
          [
           0.5084744
          ],
          [
           0.8178934
          ],
          [
           0.3992356
          ],
          [
           0.974052
          ],
          [
           0.7224153
          ],
          [
           0.039564762
          ],
          [
           0.90868413
          ],
          [
           0.47301012
          ],
          [
           0.71804965
          ],
          [
           0.76347905
          ],
          [
           0.64759654
          ],
          [
           0.89499736
          ],
          [
           0.2228259
          ],
          [
           0.35901225
          ],
          [
           0.9449102
          ],
          [
           0.29787782
          ],
          [
           0.172518
          ],
          [
           0.55658627
          ],
          [
           0.8764817
          ],
          [
           0.48667786
          ],
          [
           0.45949674
          ],
          [
           0.47412637
          ],
          [
           0.7010114
          ],
          [
           0.3375974
          ],
          [
           0.5375789
          ],
          [
           0.96699244
          ],
          [
           0.056849547
          ],
          [
           0.23324907
          ],
          [
           0.3800547
          ],
          [
           0.6029294
          ],
          [
           0.303848
          ],
          [
           0.17019455
          ],
          [
           0.97216856
          ],
          [
           0.33216894
          ],
          [
           0.6887287
          ],
          [
           0.1107734
          ],
          [
           0.27335206
          ],
          [
           0.5729397
          ],
          [
           0.49145707
          ],
          [
           0.28139
          ],
          [
           0.82169724
          ],
          [
           0.67497766
          ],
          [
           0.58513457
          ],
          [
           0.71059614
          ],
          [
           0.04048879
          ],
          [
           0.5680543
          ],
          [
           0.32175294
          ],
          [
           0.61185026
          ],
          [
           0.9260969
          ],
          [
           0.6183474
          ],
          [
           0.6676298
          ],
          [
           0.39773348
          ],
          [
           0.2908755
          ],
          [
           0.5943751
          ],
          [
           0.50825524
          ],
          [
           0.33857137
          ],
          [
           0.43230236
          ],
          [
           0.30222198
          ],
          [
           0.8761982
          ],
          [
           0.080204494
          ],
          [
           0.09233353
          ],
          [
           0.09365645
          ],
          [
           0.6084524
          ],
          [
           0.7326546
          ],
          [
           0.94415885
          ],
          [
           0.2674231
          ],
          [
           0.7311242
          ],
          [
           0.6613085
          ],
          [
           0.38776627
          ],
          [
           0.9625853
          ],
          [
           0.32206705
          ],
          [
           0.63408107
          ],
          [
           0.47534502
          ],
          [
           0.353559
          ],
          [
           0.8859363
          ],
          [
           0.8767981
          ],
          [
           0.22158106
          ],
          [
           0.39436245
          ],
          [
           0.80503565
          ],
          [
           0.45289847
          ],
          [
           0.59252053
          ],
          [
           0.7610264
          ],
          [
           0.24504903
          ],
          [
           0.37213936
          ],
          [
           0.68105483
          ],
          [
           0.74714315
          ],
          [
           0.92073953
          ],
          [
           0.09720795
          ],
          [
           0.699303
          ],
          [
           0.721647
          ],
          [
           0.5353561
          ],
          [
           0.7382938
          ],
          [
           0.70646757
          ],
          [
           0.6739506
          ],
          [
           0.7112123
          ],
          [
           0.30255872
          ],
          [
           0.080097854
          ],
          [
           0.70701087
          ],
          [
           0.51224864
          ],
          [
           0.6596275
          ],
          [
           0.6575597
          ],
          [
           0.10064561
          ],
          [
           0.9266536
          ],
          [
           0.89287937
          ],
          [
           0.8391575
          ],
          [
           0.89095974
          ],
          [
           0.55675447
          ],
          [
           0.96036196
          ],
          [
           0.6310379
          ],
          [
           0.029838065
          ],
          [
           0.27884334
          ],
          [
           0.9261577
          ],
          [
           0.55150425
          ],
          [
           0.48594236
          ],
          [
           0.4372347
          ],
          [
           0.25231802
          ],
          [
           0.515467
          ],
          [
           0.43725228
          ],
          [
           0.4937242
          ],
          [
           0.83324724
          ],
          [
           0.31752148
          ],
          [
           0.28623456
          ],
          [
           0.72683394
          ],
          [
           0.49566704
          ],
          [
           0.028645255
          ],
          [
           0.31967193
          ],
          [
           0.6743446
          ],
          [
           0.76603717
          ],
          [
           0.6545699
          ],
          [
           0.7565144
          ],
          [
           0.52825373
          ],
          [
           0.3897195
          ],
          [
           0.35508746
          ],
          [
           0.870152
          ],
          [
           0.7390833
          ],
          [
           0.30576184
          ],
          [
           0.4115877
          ],
          [
           0.06363309
          ],
          [
           0.7354094
          ],
          [
           0.6059167
          ],
          [
           0.5393956
          ],
          [
           0.5661835
          ],
          [
           0.6747952
          ],
          [
           0.070993364
          ],
          [
           0.1252641
          ],
          [
           0.27960148
          ],
          [
           0.9521744
          ],
          [
           0.23380676
          ],
          [
           0.43724743
          ],
          [
           0.9254231
          ],
          [
           0.43349862
          ],
          [
           0.525179
          ],
          [
           0.08843553
          ],
          [
           0.44767764
          ],
          [
           0.6470006
          ],
          [
           0.9036033
          ],
          [
           0.26579073
          ],
          [
           0.66419697
          ],
          [
           0.49812067
          ],
          [
           0.49018896
          ],
          [
           0.7470842
          ],
          [
           0.90678364
          ],
          [
           0.6787709
          ],
          [
           0.34859985
          ],
          [
           0.29483968
          ],
          [
           0.7056918
          ],
          [
           0.21191794
          ],
          [
           0.06320112
          ],
          [
           0.27669954
          ],
          [
           0.6724594
          ],
          [
           0.80820596
          ],
          [
           0.29653838
          ],
          [
           0.16012686
          ],
          [
           0.43938503
          ],
          [
           0.5559514
          ],
          [
           0.38624012
          ],
          [
           0.15868962
          ],
          [
           0.21449986
          ],
          [
           0.29957944
          ],
          [
           0.56916165
          ],
          [
           0.4886148
          ],
          [
           0.878295
          ],
          [
           0.6493809
          ],
          [
           0.46571335
          ],
          [
           0.16813774
          ],
          [
           0.87529546
          ],
          [
           0.84113234
          ],
          [
           0.33292082
          ],
          [
           0.5130479
          ],
          [
           0.30505508
          ],
          [
           0.812627
          ],
          [
           0.25096706
          ],
          [
           0.50243556
          ],
          [
           0.45799074
          ]
         ],
         "hovertemplate": "0=%{x}<br>1=%{y}<br>2=%{z}<br>Feature=%{customdata[0]}<br>Anomaly=%{marker.color}<extra></extra>",
         "legendgroup": "",
         "marker": {
          "color": [
           0,
           0,
           1,
           1,
           0,
           0,
           0,
           0,
           1,
           1,
           0,
           1,
           0,
           1,
           1,
           1,
           0,
           1,
           1,
           0,
           1,
           0,
           0,
           1,
           1,
           1,
           0,
           0,
           1,
           1,
           0,
           0,
           1,
           1,
           0,
           0,
           1,
           0,
           0,
           0,
           0,
           0,
           0,
           1,
           0,
           1,
           1,
           0,
           1,
           0,
           0,
           1,
           0,
           1,
           1,
           1,
           1,
           0,
           0,
           1,
           0,
           1,
           0,
           1,
           0,
           1,
           0,
           0,
           0,
           0,
           0,
           0,
           0,
           0,
           0,
           0,
           0,
           0,
           0,
           0,
           0,
           0,
           0,
           0,
           0,
           0,
           0,
           0,
           0,
           0,
           0,
           0,
           0,
           0,
           0,
           0,
           0,
           0,
           0,
           0,
           0,
           0,
           0,
           0,
           0,
           0,
           0,
           0,
           0,
           0,
           0,
           0,
           0,
           0,
           0,
           0,
           0,
           0,
           0,
           0,
           0,
           0,
           0,
           0,
           0,
           0,
           0,
           0,
           0,
           0,
           0,
           0,
           0,
           0,
           0,
           0,
           0,
           0,
           0,
           0,
           0,
           0,
           0,
           0,
           0,
           0,
           0,
           0,
           0,
           0,
           0,
           0,
           0,
           0,
           0,
           0,
           0,
           0,
           0,
           0,
           0,
           0,
           0,
           0,
           0,
           0,
           0,
           0,
           0,
           0,
           0,
           0,
           0,
           0,
           0,
           0,
           0,
           0,
           0,
           0,
           0,
           0,
           0,
           0,
           0,
           0,
           0,
           0,
           0,
           0,
           0,
           0,
           0,
           0,
           0,
           0,
           0,
           0,
           0,
           0,
           0,
           0,
           0,
           0,
           0,
           0,
           0,
           0,
           0,
           0,
           0,
           0,
           0,
           0,
           0,
           0,
           0,
           0,
           0,
           0,
           0,
           0,
           0,
           0,
           0,
           0,
           0,
           0,
           0,
           0,
           0,
           0,
           0,
           0,
           0,
           0,
           0,
           0,
           0,
           0,
           0,
           0,
           0,
           0,
           0,
           0,
           0,
           0,
           0,
           0,
           0,
           0,
           0,
           0,
           0,
           0,
           0,
           0,
           0,
           0,
           0,
           0,
           0,
           0,
           0,
           0,
           0,
           0,
           0,
           0,
           0,
           0,
           0,
           0,
           0,
           0,
           0,
           0,
           0,
           0,
           0,
           0,
           0,
           0,
           0,
           0,
           0,
           0,
           0,
           0,
           0,
           0,
           0,
           0,
           0,
           0,
           0,
           0,
           0,
           0,
           0,
           0,
           0,
           0,
           0,
           0,
           0,
           0,
           0,
           0,
           0,
           0,
           0,
           0,
           0,
           0,
           0,
           0,
           0,
           0,
           0,
           0,
           0,
           0,
           0,
           0,
           0,
           0,
           0,
           0,
           0,
           0,
           0,
           0,
           0,
           0,
           0,
           0,
           0,
           0,
           0,
           0,
           0,
           0,
           0,
           0,
           0,
           0,
           0,
           0,
           0,
           0,
           0,
           0,
           0,
           0,
           0,
           0,
           0,
           0,
           0,
           0,
           0,
           0,
           0,
           0,
           0,
           0,
           0,
           0,
           0,
           0,
           0,
           0,
           0,
           0,
           0,
           0,
           0,
           0,
           0,
           0,
           0,
           0,
           0,
           0,
           0,
           0,
           0,
           0,
           0,
           0,
           0,
           0,
           0,
           0,
           0,
           0,
           0,
           0,
           0,
           0,
           0,
           0,
           0,
           0,
           0,
           0,
           0,
           0,
           0,
           0,
           0,
           0,
           0,
           0,
           0,
           0,
           0,
           0,
           0,
           0,
           0,
           0,
           0,
           0,
           0,
           0,
           0,
           0,
           0,
           0,
           0,
           0,
           0,
           0,
           0,
           0,
           0,
           0,
           0,
           0,
           0,
           0,
           0,
           0,
           0,
           0,
           0,
           0,
           0,
           0,
           0,
           0,
           0,
           0,
           0,
           0,
           0,
           0,
           0,
           0,
           0,
           0,
           0,
           0,
           0,
           0,
           0,
           0,
           0,
           0,
           0,
           0,
           0,
           0,
           0,
           0,
           0,
           0,
           0,
           0,
           0,
           0,
           0,
           0,
           0,
           0,
           0,
           0,
           0,
           0,
           0,
           0,
           0,
           0,
           0,
           0,
           0,
           0,
           0,
           0,
           0,
           0,
           0,
           0,
           0,
           0,
           0,
           0,
           0,
           0,
           0,
           0,
           0,
           0,
           0,
           0,
           0,
           0,
           0,
           0,
           0,
           0,
           0,
           0,
           0,
           0,
           0,
           0,
           0,
           0,
           0,
           0,
           0,
           0,
           0,
           0,
           0,
           0,
           0,
           0,
           0,
           0,
           0,
           0,
           0,
           0,
           0,
           0,
           0,
           0,
           0,
           0,
           0,
           0,
           0,
           0,
           0,
           0,
           0,
           0,
           0,
           0,
           0,
           0,
           0,
           0,
           0,
           0,
           0,
           0,
           0,
           0,
           0,
           0,
           0,
           0,
           0,
           0,
           0,
           0,
           0,
           0,
           0,
           0,
           0,
           0,
           0,
           0,
           0,
           0,
           0,
           0,
           0,
           0,
           0,
           0,
           0,
           0,
           0,
           0,
           0,
           0,
           0,
           0,
           0,
           0,
           0,
           0,
           0,
           0,
           0,
           0,
           0,
           0,
           0,
           0,
           0,
           0,
           0,
           0,
           0,
           0,
           0,
           0,
           0,
           0,
           0,
           0,
           0,
           0,
           0,
           0,
           0,
           0,
           0,
           0,
           0,
           0,
           0,
           0,
           0,
           0,
           0,
           0,
           0,
           0,
           0,
           0,
           0,
           0,
           0,
           0,
           0,
           0,
           0,
           0,
           0,
           0,
           0,
           0,
           0,
           0,
           0,
           0,
           0,
           0,
           0,
           0,
           0,
           0,
           0,
           0,
           0,
           0,
           0,
           0,
           0,
           0,
           0,
           0,
           0,
           0,
           0,
           0,
           0,
           0,
           0,
           0,
           0,
           0,
           0,
           0,
           0,
           0,
           0,
           0,
           0,
           0,
           1,
           1,
           0,
           1,
           0,
           0,
           0,
           1,
           1,
           1,
           1,
           0,
           1,
           1,
           1,
           0,
           1,
           1,
           1,
           0,
           1,
           0,
           1,
           1,
           1,
           1,
           0,
           0,
           0,
           0,
           0,
           0,
           0,
           0,
           0,
           0,
           0,
           0,
           0,
           0,
           0,
           0,
           0,
           0,
           0,
           0,
           0,
           0,
           0,
           0,
           0,
           0,
           0,
           0,
           0,
           0,
           0,
           0,
           0,
           0,
           0,
           0,
           0,
           0,
           0,
           0,
           0,
           0,
           0,
           0,
           0,
           0,
           0,
           0,
           0,
           0,
           0,
           0,
           0,
           0,
           0,
           0,
           0,
           0,
           0,
           0,
           0,
           0,
           0,
           0,
           0,
           0,
           0,
           0,
           0,
           0,
           0,
           0,
           0,
           0,
           0,
           0,
           0,
           0,
           0,
           0,
           0,
           0,
           0,
           0,
           0,
           0,
           0,
           0,
           0,
           0,
           0,
           0,
           0,
           0,
           0,
           0,
           0,
           0,
           0,
           0,
           0,
           0,
           0,
           0,
           0,
           0,
           0,
           0,
           0,
           0,
           0,
           0,
           0,
           0,
           0,
           0,
           0,
           0,
           0,
           0,
           0,
           0,
           0,
           0,
           0,
           0,
           0,
           0,
           0,
           0,
           0,
           0,
           0,
           0,
           0,
           0,
           0,
           0,
           0,
           0,
           0,
           0,
           0,
           0,
           0,
           0,
           0,
           0,
           0,
           0,
           0,
           0,
           0,
           0,
           0,
           0,
           0,
           0,
           0,
           0,
           0,
           0,
           0,
           0,
           0,
           0,
           0,
           0,
           0,
           0,
           0,
           0,
           0,
           0,
           0,
           0,
           0,
           0,
           0,
           0,
           0,
           0,
           0,
           0,
           0,
           0,
           0,
           0,
           0,
           0,
           0,
           0,
           0,
           0,
           0,
           0,
           0,
           0,
           0,
           0,
           0,
           0,
           0,
           0,
           0,
           0,
           0,
           0,
           0,
           0,
           0,
           0,
           0,
           0,
           0,
           0,
           0,
           0,
           0,
           0,
           0,
           0,
           0,
           0,
           0,
           0,
           0,
           0,
           0,
           0,
           0,
           0,
           0,
           0,
           0,
           0,
           0,
           0,
           0,
           0,
           0,
           0,
           0,
           0,
           0,
           0,
           0,
           0,
           0,
           0,
           0,
           0,
           0,
           0,
           0,
           0,
           0,
           0,
           0,
           0,
           0,
           0,
           0,
           0,
           0,
           0,
           0,
           0,
           0,
           0,
           0,
           0,
           0,
           0
          ],
          "coloraxis": "coloraxis",
          "opacity": 0.7,
          "symbol": "circle"
         },
         "mode": "markers",
         "name": "",
         "scene": "scene",
         "showlegend": false,
         "type": "scatter3d",
         "x": [
          1.2776442,
          1.3950518,
          -2.2200153,
          2.8076391,
          2.3837411,
          1.6296673,
          -4.706368,
          2.646379,
          -0.8313108,
          -2.1236062,
          -0.3042869,
          7.461717,
          -1.2100146,
          5.6272683,
          1.818129,
          -1.5867878,
          -1.1995753,
          2.4636679,
          -3.3980982,
          6.5963573,
          2.103351,
          0.79575074,
          4.9006133,
          -1.4239291,
          -0.81575435,
          2.8239846,
          6.6103234,
          2.9506667,
          4.3598294,
          3.5150785,
          2.7064402,
          -1.5351028,
          3.2817361,
          3.1757567,
          -3.4253616,
          2.6377642,
          1.8603481,
          3.257523,
          0.5152603,
          1.7684855,
          -5.219664,
          2.9175313,
          -1.4999194,
          -1.7275742,
          2.7967222,
          -1.964572,
          3.5667005,
          -0.9644774,
          7.201562,
          0.12752645,
          1.211391,
          -4.3470125,
          -2.1307166,
          -1.8848511,
          -0.4443836,
          -6.902217,
          -5.8733544,
          -2.9230864,
          3.3436213,
          -1.9955198,
          -1.7747979,
          5.3689995,
          0.9427092,
          2.7817786,
          -0.59581435,
          4.4617367,
          -4.279489,
          2.0790663,
          6.1573987,
          -2.6205456,
          5.586935,
          3.9973211,
          -2.2330968,
          0.6997357,
          3.4717298,
          2.144559,
          0.71289074,
          1.2776967,
          -0.09142772,
          -1.8991177,
          -1.0917376,
          -0.7823906,
          4.435729,
          4.3236656,
          -1.4533582,
          3.1290085,
          0.16511293,
          0.5631242,
          -4.435362,
          -2.231284,
          1.730909,
          -0.22562385,
          -1.653588,
          -5.042041,
          -4.944959,
          2.151087,
          -0.825571,
          3.6451848,
          2.4710155,
          1.8679996,
          -1.3563831,
          -1.2905703,
          3.2572,
          -2.4613466,
          2.251117,
          -0.69242746,
          1.6212873,
          5.5071793,
          2.778796,
          2.130434,
          -3.5616753,
          -1.9067625,
          -2.634898,
          2.0767272,
          0.20309713,
          -2.5998719,
          -5.1699505,
          -5.3185244,
          1.4583442,
          3.1479285,
          -2.7298136,
          -2.9915872,
          5.1847577,
          -1.2321132,
          6.048481,
          2.1054747,
          -3.990396,
          2.612392,
          -0.54046535,
          3.2380767,
          -4.972267,
          -1.397848,
          2.3428397,
          -3.2157493,
          -1.7411788,
          1.0409762,
          3.4039922,
          3.74401,
          0.7105606,
          0.7845835,
          0.8030669,
          -1.1927006,
          -3.2040007,
          3.41779,
          2.3214943,
          -2.0420687,
          0.09977882,
          -2.5187454,
          0.6025013,
          1.2308397,
          -3.7123718,
          0.47415867,
          -3.0423565,
          -4.1089783,
          0.53268003,
          0.24495718,
          -0.2503508,
          -2.5353007,
          1.0292015,
          -0.88884544,
          -5.895554,
          -6.417372,
          0.53079545,
          -1.8937259,
          0.69175786,
          -1.5231216,
          1.5441923,
          5.2180133,
          0.28656864,
          5.8396983,
          0.7185238,
          4.091157,
          -1.7467068,
          0.9261049,
          5.8062906,
          0.14461282,
          -1.2224419,
          0.37465128,
          0.0047302353,
          4.212026,
          4.6665616,
          -2.5019696,
          -2.200029,
          6.291747,
          5.851166,
          -5.7221246,
          0.48739392,
          -4.99831,
          -1.3290374,
          0.017415296,
          -2.1520827,
          2.5481956,
          0.12242116,
          0.047462646,
          -1.3306717,
          -5.375579,
          4.9500575,
          6.704299,
          -2.1639645,
          6.031604,
          -2.8216639,
          1.3762021,
          -4.3663726,
          4.3697605,
          -0.9446574,
          -2.1727362,
          -4.0430107,
          -3.5652754,
          -2.3456652,
          -1.6976508,
          6.796683,
          -1.1848279,
          2.370506,
          -2.6425025,
          -3.052775,
          -2.6691828,
          -0.9100803,
          0.2590348,
          2.518728,
          0.82104576,
          -1.3865553,
          2.9376936,
          3.2532134,
          2.4828665,
          -1.3637571,
          -4.108946,
          -1.6156356,
          -2.569115,
          -2.4797595,
          -4.3848367,
          -4.0613894,
          -1.5722499,
          3.1508286,
          3.8895457,
          -0.23601678,
          3.173034,
          -0.53586906,
          -0.4167719,
          2.7502005,
          0.29604545,
          -3.7738242,
          6.008696,
          0.8169907,
          -0.09264472,
          2.6538,
          -1.1962867,
          0.37840998,
          -0.15288602,
          -1.9241015,
          4.4340005,
          -5.56067,
          3.0897374,
          3.8998144,
          -6.184024,
          -1.3691648,
          0.96954006,
          0.9852113,
          -2.3082385,
          -4.1043215,
          2.327744,
          1.573898,
          -5.2645526,
          2.2199688,
          4.640444,
          -4.101609,
          0.20404698,
          4.1071906,
          -2.5074887,
          2.5693495,
          8.018813,
          5.458241,
          -3.8258128,
          -0.22375277,
          1.3739973,
          -0.29175553,
          -5.8400083,
          1.0672861,
          2.4056895,
          4.606182,
          -1.172142,
          -1.8338896,
          1.5504385,
          -0.96731204,
          2.6019468,
          0.12852535,
          3.9960642,
          3.3831358,
          2.616412,
          -0.85202235,
          -1.7308918,
          -2.8537765,
          -1.4188823,
          1.4248853,
          3.4812455,
          4.1844225,
          -1.1200132,
          0.13282996,
          -2.4067593,
          2.679996,
          1.8445156,
          2.387264,
          -3.6554067,
          3.568244,
          3.083524,
          0.072134845,
          2.0679483,
          4.8492775,
          1.0554624,
          -4.244863,
          6.202744,
          5.518397,
          -3.9948492,
          -2.737406,
          0.820557,
          -3.7200534,
          -0.014166686,
          5.468349,
          -2.0738974,
          2.043735,
          -4.042825,
          2.919108,
          2.0192647,
          4.0461926,
          0.99821216,
          -4.1095676,
          1.4998223,
          4.985579,
          3.720577,
          2.0615387,
          0.15665902,
          -2.6345713,
          -0.5011599,
          -6.113945,
          -0.69040245,
          0.86076003,
          1.3355702,
          2.1168823,
          0.4633693,
          0.78893363,
          -1.252153,
          -0.20833133,
          -0.12078291,
          1.3696275,
          -4.886866,
          2.984146,
          3.174997,
          -3.5990884,
          -4.587479,
          1.9901946,
          -0.49749643,
          2.9754448,
          0.1531187,
          1.9572241,
          -3.6260643,
          3.4249406,
          -0.11286712,
          -2.7462811,
          1.8247597,
          3.5140138,
          1.5558683,
          2.3052082,
          3.747541,
          0.26900563,
          -3.2862203,
          2.9988663,
          0.25001448,
          2.1701963,
          -4.7286654,
          -2.1518648,
          5.9486227,
          0.5254807,
          -3.8238769,
          1.3194879,
          0.28000176,
          4.0496855,
          -0.35066488,
          3.7128994,
          0.8963252,
          -4.308056,
          0.018889263,
          0.300336,
          0.16557136,
          2.0443118,
          -0.43030366,
          2.6616623,
          -1.044811,
          1.2933947,
          1.3190362,
          5.8459787,
          -2.3997352,
          2.8197625,
          -0.7382841,
          1.3755425,
          -0.11369012,
          0.94872075,
          -3.687711,
          -0.2613138,
          3.0523138,
          1.5913842,
          0.4017821,
          3.3959482,
          3.7609837,
          -3.87063,
          -2.0429215,
          4.841541,
          -3.2947109,
          -0.95081276,
          -0.3258052,
          -1.9622731,
          6.791864,
          1.9736993,
          -0.7802954,
          3.2056224,
          1.092459,
          -1.970466,
          -1.4718219,
          1.4553922,
          -0.56311435,
          3.4994378,
          3.0016167,
          -2.4976969,
          3.0277207,
          3.121309,
          1.7907125,
          0.40558365,
          -1.467418,
          -3.8434012,
          0.20409909,
          -0.90997916,
          0.8268942,
          -2.220061,
          -5.8387914,
          4.464405,
          2.2237327,
          4.956892,
          4.569258,
          2.5394661,
          2.1529999,
          2.7424326,
          -1.395862,
          -0.6962518,
          -0.6229876,
          -0.53100973,
          1.573824,
          -2.9721773,
          -1.7043833,
          4.2007895,
          -4.999991,
          3.4249718,
          -1.8346959,
          3.3736107,
          3.0380278,
          -1.2093322,
          1.951565,
          -1.8071578,
          -4.23674,
          5.794259,
          2.769008,
          0.42502886,
          -0.21334524,
          3.1067636,
          -0.63122034,
          -0.88497293,
          0.10337542,
          0.3361973,
          1.5833545,
          2.569477,
          4.6195107,
          -1.6024039,
          0.78882045,
          -2.9232852,
          1.1540123,
          -0.5506239,
          0.99074584,
          0.40143213,
          -1.6340779,
          -4.7187233,
          -0.18974103,
          0.036121536,
          0.6880674,
          -3.559713,
          4.1944933,
          0.7439012,
          2.8244994,
          -5.506027,
          2.2631328,
          4.8289175,
          -1.567077,
          0.7331516,
          0.8028611,
          -0.52474153,
          -1.4557917,
          -2.8592823,
          3.766988,
          0.74885386,
          0.34609506,
          6.6449747,
          -1.5480914,
          -4.139771,
          -2.9050975,
          0.7561389,
          2.5948524,
          1.2015588,
          -4.020151,
          -0.7401175,
          1.1085149,
          2.0030472,
          -4.8511186,
          -2.4258502,
          -3.168252,
          1.5266055,
          -3.1152763,
          5.7986007,
          -0.9081817,
          -1.3049585,
          -5.074414,
          -5.521975,
          1.2993726,
          3.2807803,
          5.713382,
          -3.322738,
          4.5031104,
          -2.6871765,
          2.1765978,
          2.2818859,
          -4.636125,
          -1.5406513,
          -3.5389068,
          5.490766,
          -1.1287323,
          3.408645,
          1.8334216,
          -0.34795922,
          0.6157641,
          -2.1411278,
          5.119236,
          -2.1263418,
          3.7803218,
          -0.27444783,
          7.7165046,
          1.5367315,
          -0.7032961,
          2.2688968,
          0.28205705,
          -4.200506,
          1.031294,
          -1.9008244,
          1.0580215,
          0.6393253,
          -1.2681948,
          -2.7830837,
          2.9769158,
          0.73046565,
          1.1555707,
          -5.5167847,
          1.6720245,
          -1.2385383,
          3.3158557,
          4.490911,
          1.1512452,
          1.6142129,
          2.8354356,
          -5.7787514,
          -1.2251756,
          3.2102096,
          -2.872041,
          -0.40976417,
          2.3203628,
          -0.4312419,
          -2.4099681,
          0.12705217,
          -2.0369737,
          3.2538853,
          -0.33206284,
          -0.051329862,
          5.892789,
          -0.52949744,
          0.008813995,
          1.9947194,
          -2.881129,
          -1.8769785,
          -1.2914369,
          0.1789746,
          -1.5289967,
          -4.234657,
          -4.202194,
          -0.48117828,
          0.93068856,
          -2.350678,
          2.009281,
          3.7436504,
          -4.2217393,
          -0.2412354,
          4.0404215,
          -0.20198908,
          -3.349141,
          3.3895764,
          2.605163,
          -0.6254831,
          1.7202252,
          2.0548618,
          -2.3103945,
          -3.8581572,
          -4.9992256,
          -1.667791,
          0.4567606,
          3.5093253,
          0.6321927,
          3.3520024,
          1.8977611,
          -2.8798914,
          -2.1169581,
          -3.5723517,
          -0.23899847,
          -0.8275169,
          -5.331833,
          -3.6479242,
          -5.162246,
          5.44727,
          -0.8723413,
          0.38751277,
          -2.4346008,
          -5.0110717,
          2.789676,
          1.5416944,
          3.83118,
          -5.4602995,
          0.010509389,
          -0.8640996,
          -0.12609316,
          -5.196289,
          6.0013523,
          2.8830454,
          4.4742126,
          -2.1771472,
          -0.20321356,
          -4.9410152,
          0.24360164,
          -2.0291066,
          -0.7246813,
          -1.0266204,
          -1.9528183,
          -5.078651,
          -0.6623446,
          -0.12457059,
          0.53270143,
          -0.248681,
          2.2376006,
          5.035916,
          0.8461753,
          -1.5619154,
          -0.22062974,
          -0.13355981,
          2.1424928,
          -0.008258139,
          0.5847121,
          2.91079,
          2.425389,
          0.33729362,
          1.9719748,
          4.688246,
          -2.7097516,
          0.15338784,
          1.1325867,
          0.10184536,
          -0.7748201,
          3.2401648,
          -3.5036764,
          6.8334074,
          -0.53229576,
          0.73257625,
          -0.27421013,
          -5.7025566,
          0.86887825,
          -1.3768609,
          -2.9314153,
          -0.98221105,
          -2.7326698,
          1.514784,
          -3.1232562,
          0.4283607,
          -1.308111,
          -0.3143508,
          -1.7740146,
          -4.1696014,
          -0.83777905,
          -2.754601,
          -4.832758,
          -0.475791,
          5.191074,
          -1.3853692,
          5.0041246,
          3.2045057,
          5.3878913,
          -0.74178374,
          -0.7349452,
          1.2467186,
          -4.0839734,
          1.2219743,
          -0.008692332,
          -5.10462,
          -5.553164,
          5.6001844,
          4.3598585,
          0.41822195,
          -6.156948,
          1.3104807,
          -2.895825,
          0.45839757,
          -1.7656509,
          3.3834965,
          -1.9952849,
          6.490584,
          2.9284656,
          5.5070863,
          -3.10463,
          1.8555607,
          -2.0817974,
          5.5482183,
          1.5934641,
          -3.3328497,
          -4.1436877,
          5.690208,
          -4.4003725,
          5.246174,
          3.3459918,
          -2.3311088,
          -0.924451,
          4.6852884,
          1.5874729,
          6.8034782,
          0.3771653,
          0.5040376,
          1.0483401,
          -1.144477,
          -1.605164,
          -2.5233765,
          -1.5626189,
          -1.3812902,
          -2.320056,
          1.9346088,
          3.2132885,
          2.9003184,
          -4.076779,
          1.5807884,
          -2.163914,
          -3.857974,
          -2.1798344,
          2.1792786,
          4.7193727,
          1.4918361,
          1.1582993,
          -5.445991,
          -1.4618875,
          -2.8395832,
          0.17354088,
          -2.014626,
          -5.0449443,
          -0.61711115,
          -4.6240225,
          5.9635468,
          -5.862725,
          -0.16258517,
          0.086074665,
          0.2507986,
          -4.5716214,
          -3.3607545,
          2.003641,
          -2.3395207,
          2.7320075,
          -1.6579814,
          0.8718102,
          1.1569148,
          -3.7400522,
          2.151214,
          -4.7445283,
          -0.75730217,
          -3.7426715,
          2.881498,
          2.9929893,
          -1.3384283,
          -4.227359,
          3.9016192,
          -3.421424,
          -0.7646159,
          5.4918847,
          -6.1021132,
          -1.2138278,
          -2.796194,
          -4.843327,
          5.2768373,
          -0.47071162,
          -3.770217,
          2.6565661,
          -2.492319,
          -1.6236625,
          -2.9036045,
          3.0065944,
          -0.9392557,
          -3.031648,
          -2.8177423,
          0.6692023,
          4.4415956,
          0.5916023,
          0.2852103,
          -1.2247875,
          -5.4507594,
          2.4388924,
          0.68332845,
          1.4392154,
          2.2213483,
          -3.9227502,
          2.8604002,
          -1.9100084,
          3.9860406,
          3.3268063,
          2.9234421,
          4.308322,
          -1.0473232,
          1.7926966,
          -1.2242343,
          1.1772021,
          -2.2088664,
          1.8534886,
          5.2754817,
          1.3780308,
          0.5422202,
          -2.14641,
          1.7223057,
          1.9368047,
          1.3360205,
          1.2257106,
          1.0858393,
          -2.9684129,
          2.8978457,
          -1.5379983,
          0.9046188,
          3.0144472,
          -2.220081,
          -4.8723936,
          -1.4195647,
          -2.3836644,
          2.2576628,
          4.2603965,
          -2.389897,
          -1.8745421,
          6.2459025,
          -1.433372,
          -3.598911,
          5.9190135,
          -1.061934,
          -3.7850022,
          -4.653168,
          -1.9744054,
          5.95484,
          6.644127,
          4.6628184,
          -0.14227794,
          -3.2007582,
          -3.9662173,
          -0.32215405,
          -2.7392118,
          1.8664438,
          -4.34639,
          5.412429,
          3.5543656,
          -5.5134816,
          -4.4315386,
          -1.358733,
          -1.4717404,
          -1.3459486,
          -2.9183102,
          0.22689983,
          -3.786614,
          -5.1945934,
          0.94264525,
          0.2719585,
          -4.034166,
          1.8980289,
          -0.6687259,
          -2.385674,
          0.024598673,
          -0.3507962,
          5.111262,
          3.0886111,
          -2.060818,
          2.8501675,
          1.8859069,
          1.539838,
          -2.0340095,
          2.994048,
          5.3696194,
          0.9636565,
          -1.5170302,
          6.834465,
          -0.6782299,
          1.6984855,
          -0.83186674,
          5.704482,
          3.648646,
          2.638872,
          -5.0065174,
          -3.996128,
          4.3590226,
          -3.9472518,
          4.651959,
          0.6546288,
          -1.9354295,
          0.9268796,
          2.7133353,
          3.3802257,
          1.2912573,
          -1.705999,
          3.5844805,
          -2.7962954,
          0.5324566,
          0.3498666,
          4.5243497,
          -0.6586494,
          -1.4517322,
          -2.8626866,
          2.6481488,
          2.7194252,
          -0.34441614,
          7.433391,
          -3.5625272,
          -3.1910427,
          0.7777101,
          2.9245534,
          6.8028054,
          1.3273126,
          -3.4377797,
          0.42532456,
          4.3961096,
          3.0403237,
          0.83539623,
          -0.32335016,
          -1.5443397,
          0.6526949,
          -1.2309026,
          -1.2801628,
          -4.9481235,
          -0.87866837,
          -1.5211118,
          1.1985687,
          -1.8080077,
          -0.7171764,
          1.7798947,
          4.0889497,
          -3.6389928,
          0.24581671,
          0.22840887,
          4.254682,
          3.82118,
          1.0025996,
          1.5144483,
          -0.9859724,
          1.2506242,
          -3.1779025,
          -4.325493,
          -2.6579401,
          2.7540486,
          0.22037771,
          0.7251453,
          2.0409796,
          -3.118433,
          3.0472221,
          1.3637029,
          -1.5276521,
          -5.5684752,
          1.8966199,
          -2.1969132,
          -0.48261353,
          0.7156765,
          -1.5377904,
          -1.3018306,
          0.59235334,
          0.57875115,
          0.3857019,
          -1.7237821,
          -2.3950238,
          -1.5195476,
          -3.1720092,
          -5.52502,
          0.5661415,
          3.8392892,
          -4.126337,
          -0.6252021,
          -2.0293775,
          1.9768099,
          0.05469258,
          2.8049998,
          0.19632791,
          -1.4952445,
          -0.99575424,
          1.079668,
          3.2544968,
          -2.7829432,
          1.2161247,
          0.70371014
         ],
         "y": [
          -1.2090617,
          4.4076147,
          -11.443384,
          -8.668653,
          -16.630785,
          -7.7198906,
          9.180052,
          -16.386538,
          -2.0744042,
          11.459276,
          -17.24743,
          -13.643687,
          -8.844589,
          -9.310882,
          -9.774994,
          -18.831707,
          -8.890719,
          12.373922,
          -10.206687,
          -12.5440035,
          -7.013606,
          -1.713608,
          -10.692585,
          -1.4180146,
          -9.942742,
          -3.8875825,
          -12.799306,
          2.9439902,
          -6.4236493,
          -14.264564,
          0.7518025,
          2.638737,
          -4.7924194,
          -9.553419,
          4.0954046,
          -1.5955353,
          -2.213693,
          3.0240703,
          -2.7029948,
          -9.710296,
          12.860492,
          -12.4443,
          9.36179,
          -8.956256,
          -11.849704,
          -19.51821,
          -11.357245,
          -1.5043554,
          -13.4062,
          13.443906,
          -14.890654,
          -8.538155,
          5.2360544,
          -19.357168,
          -7.904692,
          2.3398871,
          3.7942786,
          2.663378,
          -10.146533,
          -13.261872,
          -0.13537353,
          9.247212,
          -19.932327,
          -12.540185,
          13.320245,
          -11.32131,
          15.829567,
          11.498298,
          -13.434762,
          -12.034081,
          -17.563213,
          -12.594141,
          -1.3239957,
          -11.247752,
          7.521129,
          3.532776,
          -15.722678,
          -16.058922,
          10.049718,
          8.513253,
          8.374847,
          2.6556742,
          -14.47612,
          8.073669,
          6.881815,
          2.5646484,
          9.308021,
          11.016897,
          3.9398518,
          -0.0315998,
          1.4232053,
          -14.991117,
          7.7592998,
          10.42917,
          3.3810763,
          -19.150003,
          9.839414,
          4.428446,
          5.416205,
          -15.464486,
          -2.2373798,
          12.728805,
          4.285689,
          7.3009634,
          -20.398396,
          9.294086,
          8.429434,
          8.380964,
          7.8291335,
          -15.118063,
          1.7020335,
          -3.0682416,
          -15.220404,
          5.9850225,
          -15.371594,
          3.940174,
          7.3933034,
          10.657407,
          -9.548617,
          7.2920284,
          4.819206,
          3.1120095,
          6.6429734,
          11.898592,
          5.051829,
          4.9423933,
          2.4838831,
          -10.330524,
          6.6563444,
          5.264543,
          1.4958162,
          9.199019,
          -14.494089,
          6.156373,
          11.794113,
          3.2779202,
          -13.607115,
          -12.016288,
          4.356699,
          3.165026,
          -12.373297,
          0.10513807,
          6.8061433,
          -15.604669,
          7.9969454,
          9.222318,
          -14.681776,
          14.14552,
          4.1708794,
          5.3995447,
          0.655827,
          4.9350505,
          0.93955344,
          7.540089,
          -1.7547,
          9.877232,
          13.814828,
          11.519367,
          7.508415,
          -9.849542,
          7.197663,
          4.1115484,
          4.8697968,
          10.541437,
          -9.849655,
          11.382625,
          -11.911739,
          -15.139179,
          -12.4491415,
          6.601216,
          8.834887,
          3.2973857,
          -10.8662195,
          -13.285519,
          1.8959354,
          12.042547,
          -8.75634,
          -12.417107,
          3.643052,
          -11.391418,
          3.336163,
          -13.961142,
          3.6760435,
          -15.92234,
          -15.238562,
          8.625097,
          -13.156666,
          2.3459976,
          7.529925,
          4.406723,
          13.475821,
          -16.185102,
          -15.793414,
          -14.103392,
          9.565996,
          7.5322256,
          6.088973,
          7.685672,
          -3.3251882,
          4.2931037,
          1.1167349,
          4.1886725,
          4.008055,
          -15.336984,
          -12.91463,
          2.583779,
          9.305915,
          1.2566487,
          -13.716786,
          2.9327009,
          2.5024076,
          -14.838124,
          -15.819231,
          2.4751906,
          2.883716,
          4.382051,
          3.5503109,
          -17.119328,
          -18.660536,
          1.405181,
          -13.038173,
          7.5270452,
          -15.245977,
          9.146866,
          11.356147,
          8.06481,
          10.454725,
          8.859339,
          11.569198,
          -13.066972,
          7.95931,
          8.082726,
          -11.878243,
          -11.776917,
          6.8191447,
          7.840386,
          1.627525,
          4.576343,
          -10.568782,
          -11.277451,
          1.5945723,
          4.7679276,
          -11.033943,
          8.999028,
          -14.396827,
          12.02674,
          6.063365,
          7.9162803,
          10.472137,
          -11.891046,
          4.979194,
          2.5689754,
          -12.091486,
          4.1185446,
          8.93311,
          -0.6620971,
          0.80389756,
          10.8184805,
          -13.699586,
          7.389185,
          -11.515601,
          3.8855252,
          -15.05166,
          3.742951,
          5.542694,
          8.749285,
          -13.465311,
          8.100352,
          7.583361,
          7.0376554,
          7.91998,
          4.331532,
          2.7790382,
          -10.619486,
          -9.288171,
          7.609364,
          -17.954952,
          -16.330956,
          8.196536,
          7.4415536,
          10.596816,
          -10.700295,
          8.946379,
          1.9054315,
          -15.024112,
          7.095596,
          10.484406,
          7.1833243,
          10.493981,
          -3.46726,
          0.017642459,
          6.2761383,
          8.097187,
          7.960228,
          8.005775,
          -13.067909,
          -13.538149,
          9.319939,
          6.2869806,
          -0.258752,
          1.7622201,
          10.7150755,
          -16.438433,
          -14.270567,
          -12.439838,
          5.496809,
          5.9109945,
          4.931174,
          12.909681,
          -15.200155,
          -14.457169,
          14.033238,
          -13.861334,
          -11.120554,
          5.561842,
          -0.049917072,
          6.453147,
          7.7311482,
          6.572586,
          4.268343,
          2.565087,
          3.757592,
          -12.310338,
          3.6408966,
          6.4628468,
          0.16614065,
          -12.916982,
          -14.48823,
          -12.032875,
          -12.115688,
          8.227574,
          -17.563704,
          6.175985,
          9.605451,
          11.379227,
          -14.7011175,
          5.4443374,
          3.4715567,
          -13.281521,
          -16.116533,
          2.821108,
          9.838957,
          -9.504017,
          7.7931423,
          -15.57576,
          -13.115666,
          5.405799,
          11.706904,
          -10.411173,
          -17.926003,
          2.1726565,
          3.321999,
          6.7496185,
          4.5303993,
          10.474161,
          10.367103,
          5.247811,
          6.487637,
          -18.972166,
          -1.9571912,
          4.2083697,
          5.8999267,
          2.4293103,
          12.360549,
          -11.784824,
          5.1485076,
          -17.28482,
          10.0164175,
          11.119433,
          8.992088,
          10.78713,
          1.9002723,
          -16.245481,
          -12.342982,
          -12.2009115,
          11.830146,
          6.9414744,
          -12.075016,
          4.247201,
          -0.086672366,
          -11.451835,
          3.3912249,
          6.054171,
          11.070059,
          5.1800065,
          10.456401,
          7.8319354,
          6.631439,
          3.6112692,
          -2.1013963,
          11.409222,
          9.77122,
          2.327457,
          5.1542563,
          6.508665,
          4.348799,
          9.364688,
          -14.119879,
          -1.086704,
          7.0492706,
          6.9174066,
          10.721889,
          14.270806,
          2.7431598,
          -15.545663,
          7.8113146,
          -13.377318,
          2.909177,
          -9.735885,
          5.2075634,
          7.92638,
          1.1856952,
          -19.890306,
          5.744515,
          6.386575,
          8.732005,
          12.176355,
          6.170942,
          -14.256246,
          -13.460893,
          -2.2884111,
          7.3849225,
          7.812988,
          2.9515874,
          -13.177443,
          11.643803,
          8.35111,
          -12.455156,
          -1.5007428,
          -15.626272,
          3.4630408,
          8.516486,
          8.545182,
          -11.860532,
          -17.399431,
          4.377805,
          9.730742,
          -15.492335,
          8.460282,
          -13.463006,
          9.190756,
          9.507739,
          -14.137258,
          -17.875206,
          4.8438582,
          -9.632434,
          -16.894144,
          8.166098,
          -11.696547,
          -15.184729,
          11.003474,
          -14.237641,
          11.74183,
          5.6635494,
          -15.045193,
          2.856952,
          0.8974138,
          -13.014802,
          9.542902,
          10.795383,
          5.477434,
          -14.46509,
          9.033437,
          10.552998,
          0.21328585,
          1.648444,
          7.6461797,
          -17.509935,
          11.658837,
          -12.740208,
          5.8138,
          9.228416,
          9.3065195,
          4.624272,
          11.789751,
          10.087315,
          7.1078405,
          -11.263316,
          1.6952538,
          7.702296,
          11.734245,
          9.616681,
          -12.438006,
          -16.40932,
          7.801305,
          -16.980597,
          3.1422422,
          -1.5262997,
          2.433492,
          -11.8465805,
          6.5797677,
          -13.681106,
          -10.964417,
          -16.451149,
          -11.675329,
          -14.649404,
          5.9351068,
          -11.218052,
          7.0113163,
          -0.07019502,
          4.655892,
          2.4772341,
          -0.1244632,
          3.601972,
          -1.2990865,
          -11.761988,
          8.96578,
          10.5246105,
          -1.6885192,
          -13.665686,
          -16.650122,
          11.0931425,
          6.33488,
          -15.768837,
          9.906191,
          9.763628,
          6.317431,
          9.450677,
          2.0755196,
          6.062463,
          -2.7320364,
          -14.661768,
          -12.461782,
          -12.20149,
          -19.177906,
          7.216973,
          -1.0489215,
          10.779776,
          1.8864273,
          0.4925316,
          4.3583136,
          -16.387362,
          -10.519081,
          10.26053,
          -12.815934,
          -13.835001,
          3.9771383,
          -16.258593,
          1.1398531,
          7.1088543,
          2.0144694,
          -11.944312,
          7.881193,
          3.1977036,
          11.752533,
          -12.299249,
          8.996416,
          -12.048921,
          -14.194607,
          9.257986,
          8.787555,
          3.1595552,
          -15.181981,
          7.51556,
          7.46092,
          4.647847,
          -9.980483,
          6.015163,
          -13.783794,
          -0.80761343,
          -18.139997,
          -19.000462,
          8.036258,
          -15.224073,
          9.51742,
          10.138194,
          12.4219265,
          2.5516717,
          -16.112553,
          -14.692658,
          -0.8129241,
          -13.902568,
          -15.601823,
          -18.294716,
          2.5900717,
          -16.152037,
          6.7509212,
          10.651031,
          1.6821147,
          4.5800734,
          -2.2851508,
          5.452902,
          -12.39242,
          6.4210825,
          12.705965,
          9.547293,
          0.49945772,
          10.925494,
          10.583032,
          -17.128855,
          10.552117,
          10.764239,
          -0.2821913,
          -15.665055,
          0.47659913,
          6.3751307,
          -13.752442,
          -16.00072,
          -11.909609,
          -17.21045,
          -10.946793,
          1.8291246,
          -13.378882,
          8.913289,
          -12.685251,
          4.3421383,
          -15.059682,
          -18.460358,
          8.054621,
          2.3448522,
          -12.403135,
          0.5969263,
          -1.6480533,
          2.0122585,
          10.803866,
          9.031212,
          2.2912128,
          3.4510682,
          5.9408746,
          0.82908314,
          1.4529582,
          6.3079963,
          5.474628,
          1.9062102,
          -12.100891,
          -17.607271,
          7.6910276,
          -16.398752,
          3.4541283,
          10.614721,
          3.0958788,
          7.139568,
          8.509718,
          -14.50696,
          -0.37663147,
          1.0526272,
          2.365399,
          1.8141556,
          -15.019187,
          0.70045215,
          -12.6185465,
          2.9215314,
          7.466977,
          0.32667923,
          -17.28857,
          5.7485175,
          -12.306505,
          4.703587,
          -16.792173,
          2.7312822,
          10.385999,
          12.711094,
          3.044423,
          -12.440863,
          12.635623,
          3.4225218,
          -15.165128,
          2.218538,
          5.649327,
          -15.417732,
          -16.859213,
          5.859849,
          0.23030777,
          -0.35324195,
          -12.184775,
          1.7577811,
          -10.9747925,
          5.7271895,
          7.9434085,
          13.213471,
          2.487277,
          9.880525,
          6.465018,
          3.5575385,
          -9.7668295,
          9.553998,
          2.5248811,
          -13.648117,
          -12.480344,
          6.3754096,
          -11.901131,
          10.127509,
          3.4739182,
          -10.715352,
          8.745771,
          12.991448,
          8.92268,
          12.189655,
          -15.754575,
          -15.659742,
          -8.347968,
          -13.612415,
          -19.317352,
          3.205559,
          -15.493639,
          -9.495573,
          -0.64118284,
          7.78447,
          8.34701,
          -12.741452,
          2.3332696,
          8.846819,
          -9.345584,
          -6.397391,
          7.1971264,
          3.008952,
          -15.535084,
          -16.407452,
          0.76701766,
          -9.749923,
          -10.034977,
          11.969527,
          7.3948307,
          -4.0742188,
          7.1630454,
          -9.7318535,
          -7.625323,
          -19.776905,
          7.1658797,
          8.006022,
          -10.306483,
          6.97751,
          2.2823036,
          -8.453327,
          -0.3330802,
          -4.865624,
          -14.521578,
          -8.91118,
          -11.1071415,
          -9.1172285,
          2.7715542,
          -16.635843,
          3.06927,
          4.4820256,
          0.52737117,
          -15.51081,
          3.045868,
          7.8117943,
          9.466539,
          -13.311067,
          4.8912463,
          2.5018702,
          2.4873414,
          -11.806327,
          -1.2558945,
          9.131374,
          5.827892,
          -14.114015,
          -12.8598385,
          -17.454178,
          4.3301196,
          -15.604936,
          3.6367753,
          9.551353,
          11.118998,
          -12.877442,
          8.356039,
          4.006784,
          -16.15741,
          10.548429,
          -16.02656,
          6.3783083,
          9.878602,
          12.841004,
          -0.34605777,
          9.455965,
          7.864796,
          -16.529205,
          7.4876237,
          -16.970474,
          8.134659,
          1.7150697,
          0.64976025,
          7.8636007,
          0.5193338,
          11.172121,
          3.4768105,
          2.295477,
          8.343766,
          0.23804207,
          4.4852457,
          8.48516,
          3.2149904,
          1.0062662,
          8.361997,
          -16.974466,
          5.2554965,
          -10.328167,
          10.173531,
          7.5250363,
          -15.75309,
          5.4980226,
          -13.440017,
          5.715247,
          9.281854,
          2.6511157,
          10.23692,
          -12.080794,
          5.3239,
          14.650727,
          4.9898663,
          3.6822937,
          1.9552245,
          4.209818,
          -11.989533,
          12.150554,
          9.439037,
          4.268975,
          -13.0823145,
          10.743367,
          -14.871425,
          -10.803247,
          6.5429664,
          -2.800821,
          2.8639243,
          -11.692731,
          5.028849,
          -16.67575,
          -8.785629,
          -12.130078,
          -15.359685,
          -10.799278,
          10.038999,
          2.5974007,
          6.3201942,
          9.624676,
          -13.190722,
          8.396543,
          2.398223,
          -16.77918,
          4.6571355,
          -0.49786884,
          -18.854715,
          -11.019211,
          -12.953959,
          -11.796699,
          -17.550808,
          -15.85716,
          -14.819766,
          8.210891,
          4.8214984,
          7.0345125,
          -11.817219,
          8.676805,
          8.898502,
          -11.345954,
          4.4572167,
          5.3914666,
          1.693324,
          5.250472,
          -10.001063,
          -1.5067248,
          7.8701243,
          4.719035,
          2.8250897,
          6.6469007,
          1.4274249,
          -12.647994,
          8.5526905,
          -13.106973,
          -1.9827821,
          7.6264095,
          -1.4237972,
          5.5747685,
          5.9564805,
          -12.15325,
          10.679105,
          7.7216873,
          -12.478186,
          0.0040107425,
          -15.951883,
          9.081318,
          9.338037,
          2.2626686,
          5.0371704,
          10.230771,
          6.3355374,
          4.70526,
          1.1255245,
          -12.334762,
          0.37678388,
          5.142399,
          9.9513855,
          -12.656903,
          -14.490363,
          -15.001658,
          0.3350229,
          7.289781,
          0.049131226,
          -10.489169,
          -15.179511,
          -14.686042,
          -12.402793,
          9.85161,
          -15.387509,
          2.7334292,
          3.6877813,
          11.969382,
          1.8001288,
          3.5018046,
          7.0945377,
          4.389637,
          10.614974,
          -17.312489,
          6.319853,
          -15.171495,
          -13.810897,
          2.0445855,
          -12.195068,
          9.149205,
          10.404468,
          10.456841,
          7.6817374,
          7.817872,
          -13.4007845,
          -16.729914,
          0.8307051,
          5.936843,
          -12.944632,
          -15.72941,
          -1.8471717,
          -14.57287,
          6.1289954,
          6.6851635,
          6.5173926,
          0.2517094,
          5.009736,
          0.98690146,
          6.1245747,
          6.9201546,
          -17.618906,
          7.844817,
          8.893469,
          -16.898209,
          -14.081485,
          -14.87105,
          10.038932,
          -12.665964,
          3.5981486,
          -15.593118,
          -13.262052,
          2.04233,
          9.725382,
          -11.053303,
          6.344449,
          -13.766012,
          6.838658,
          3.6905792,
          7.5273576,
          5.8326325,
          2.2272227,
          3.316455,
          -16.449919,
          -12.151984,
          6.005837,
          12.166891,
          -15.3990345,
          -13.709574,
          -10.787309,
          3.42585,
          10.770499,
          7.5495515,
          -11.826936,
          8.917286,
          1.9217967,
          11.258037,
          8.12939,
          7.3964715,
          -12.657259,
          6.4065213,
          -17.839746,
          4.937828,
          3.2587292,
          -16.397396,
          7.365069,
          9.608771,
          8.412706,
          -17.624163,
          2.9439826,
          -10.472667,
          -12.525839,
          -2.34179,
          9.301676,
          9.126289,
          -17.563416,
          11.188281,
          4.4550247,
          -13.593029,
          -14.125425,
          -17.3734,
          -9.976372,
          6.0322304,
          5.729851,
          -12.780947,
          -14.388986,
          1.777666,
          8.645919,
          9.619336,
          -11.813176,
          -17.128448
         ],
         "z": [
          -7.138369,
          10.72059,
          -8.418662,
          8.2792015,
          -8.9883375,
          5.343394,
          6.494067,
          8.508329,
          0.5816055,
          -8.886749,
          9.797785,
          -2.8815413,
          12.684539,
          -6.8610997,
          -1.4255729,
          2.6816616,
          12.662062,
          -2.6796422,
          -8.365085,
          -1.06105,
          4.988536,
          -12.342491,
          -6.6242156,
          0.52881414,
          2.7926223,
          -12.881217,
          -1.8203628,
          -1.713156,
          -1.9935912,
          3.2853067,
          -1.1479034,
          9.655339,
          -9.08612,
          0.46249178,
          -1.7833545,
          -12.714684,
          3.0346906,
          -2.0082061,
          -10.216263,
          5.503155,
          3.1290865,
          1.2070446,
          2.143293,
          0.8425568,
          -0.5674173,
          2.9050126,
          -0.21638228,
          0.5435096,
          -2.558492,
          4.866609,
          12.38733,
          -8.23812,
          -2.5851219,
          2.983141,
          6.1959805,
          9.5916605,
          11.4439745,
          5.659212,
          0.8356744,
          -4.1357384,
          4.3994803,
          0.8354065,
          -0.1489994,
          1.8227706,
          1.0407293,
          -0.4643835,
          4.156172,
          -2.769226,
          -2.6084971,
          5.9207273,
          1.370147,
          7.003462,
          -8.810305,
          10.743289,
          -13.002037,
          -10.765917,
          -4.0703483,
          2.2372572,
          -15.376945,
          -12.3968725,
          -12.006685,
          -12.4594345,
          -5.087689,
          0.9055751,
          7.0352983,
          7.600432,
          4.8291187,
          7.879045,
          1.5715657,
          -12.370664,
          -13.313046,
          9.709909,
          1.9829524,
          7.8000445,
          8.486573,
          0.081746444,
          -3.3409724,
          6.184259,
          -2.1198585,
          -3.8208358,
          -9.666675,
          5.0525923,
          5.7241693,
          -3.099457,
          1.1380714,
          -6.2626047,
          0.69340724,
          7.7762485,
          -12.126964,
          2.4793568,
          -12.654034,
          -11.557408,
          11.399345,
          -10.537361,
          -7.754756,
          -13.554357,
          10.449367,
          7.9279485,
          9.233305,
          -2.3912525,
          -13.745752,
          0.6325761,
          8.797056,
          2.269381,
          -0.01045864,
          8.568085,
          7.555066,
          7.6588316,
          7.2679296,
          8.142556,
          -0.57444805,
          -3.2520409,
          11.8902645,
          6.3269243,
          6.323899,
          -8.48885,
          -6.9083967,
          10.906093,
          7.5496364,
          2.8873842,
          10.7844095,
          -13.916218,
          -3.0705738,
          -6.270227,
          -3.3273294,
          -8.759206,
          7.5180383,
          4.8423214,
          8.788473,
          0.60367197,
          -13.045537,
          -12.679556,
          2.078066,
          -3.4149632,
          -11.104062,
          -3.1278052,
          2.8368032,
          3.3916326,
          -14.46091,
          8.667422,
          8.996235,
          -0.5269681,
          -16.23199,
          -14.96611,
          7.227415,
          4.87931,
          11.0678,
          2.0811572,
          -4.173972,
          -0.68014437,
          0.35669085,
          6.1445456,
          4.444525,
          -7.960893,
          1.6165091,
          6.7626963,
          5.341317,
          -7.672502,
          9.154802,
          9.374806,
          3.2126098,
          4.855571,
          10.812509,
          4.805804,
          2.9040558,
          10.00801,
          1.2046013,
          -0.94254637,
          -10.119219,
          -12.875433,
          4.8664994,
          -6.9972963,
          10.164672,
          -8.407953,
          11.424097,
          7.0969486,
          3.8007958,
          8.485045,
          -9.20063,
          0.6026169,
          0.37083906,
          1.8913336,
          7.1663413,
          -4.905592,
          -8.089076,
          9.716703,
          -12.741816,
          0.46008116,
          5.817672,
          6.760899,
          1.7614936,
          0.90813833,
          1.0650427,
          -13.879531,
          0.75670165,
          1.8461643,
          6.975988,
          2.6456227,
          1.4930878,
          2.7002914,
          -8.6830635,
          6.7704844,
          -4.760106,
          -12.921455,
          10.159466,
          -12.725109,
          0.8606249,
          -10.3283825,
          6.105997,
          1.3248435,
          7.429839,
          2.1205633,
          9.568937,
          10.406583,
          -3.1792102,
          6.340447,
          5.458066,
          -11.942764,
          7.4438167,
          -8.618281,
          0.8229215,
          6.8570786,
          -6.0471888,
          8.16672,
          6.1191635,
          9.078841,
          -9.84044,
          -16.967659,
          0.35331723,
          -6.696438,
          -3.8220956,
          2.3774283,
          6.6831155,
          -0.62996674,
          -6.8862157,
          -0.37003627,
          -9.188681,
          8.225813,
          0.9742174,
          -3.4224908,
          -6.998879,
          -1.6100887,
          -8.155754,
          2.649757,
          -4.3550806,
          8.199224,
          10.840916,
          10.780785,
          -12.179786,
          7.3136992,
          6.18804,
          9.964404,
          -10.708748,
          -7.0357676,
          7.492643,
          -0.03527022,
          0.1264638,
          -7.0193467,
          6.761924,
          -9.842999,
          1.487664,
          -6.671944,
          -9.056338,
          -7.9111476,
          -7.069307,
          8.948758,
          -0.43856278,
          6.935333,
          8.746053,
          -8.629757,
          -13.571826,
          5.947916,
          0.4798251,
          9.02065,
          1.1114436,
          11.321826,
          6.9161553,
          -15.450283,
          1.640895,
          -8.81009,
          8.004766,
          9.1262865,
          2.4254534,
          6.8013062,
          4.9671135,
          -15.053915,
          5.9651265,
          -14.92752,
          3.099027,
          3.2236924,
          2.9335463,
          4.9028587,
          3.8813689,
          -8.134745,
          2.9295564,
          -9.045163,
          -0.6067112,
          8.136226,
          -15.341374,
          8.00716,
          7.879807,
          -12.653027,
          8.150991,
          5.6244802,
          -14.939126,
          -11.60757,
          9.79879,
          10.244129,
          -2.7634268,
          6.1033,
          10.931872,
          1.224714,
          -0.6713439,
          -4.79511,
          7.5518026,
          -3.8940346,
          7.8076982,
          -8.114789,
          1.5200244,
          0.014837129,
          -8.723391,
          -10.329408,
          9.511003,
          -3.0355349,
          8.4949045,
          -3.7548869,
          6.389135,
          5.1154165,
          8.14272,
          1.8091327,
          1.3516095,
          -10.093556,
          -3.8581405,
          9.614681,
          -0.45569545,
          -10.303376,
          -0.96477246,
          6.277642,
          0.32924026,
          -13.043139,
          9.388851,
          6.010111,
          -3.0841985,
          2.3690603,
          8.458901,
          -16.32129,
          3.3047087,
          10.545382,
          8.243635,
          8.017775,
          2.4772706,
          0.8410776,
          -5.1377077,
          -1.8721268,
          8.131638,
          1.0245956,
          -14.3873,
          5.7179317,
          8.571223,
          -13.58775,
          8.813262,
          1.1384927,
          -12.492551,
          -13.013968,
          8.957339,
          -3.0492969,
          0.21252422,
          0.5953999,
          1.2657777,
          -11.532819,
          1.1509,
          -4.0073175,
          -11.948914,
          -12.186572,
          -2.941367,
          9.727402,
          -6.428563,
          6.019957,
          -10.7743025,
          -9.638555,
          -2.0994961,
          2.6748352,
          5.073721,
          10.390241,
          6.885181,
          10.312436,
          -5.248397,
          -0.09259437,
          9.645418,
          9.091421,
          9.488352,
          -12.725307,
          2.309839,
          -15.686428,
          5.5775194,
          2.1404245,
          6.8075466,
          8.590748,
          10.602571,
          -3.417073,
          -11.707989,
          3.239232,
          6.8385663,
          8.725776,
          -3.765404,
          7.442121,
          7.499121,
          5.6042595,
          -8.466456,
          -3.6697989,
          -13.343635,
          8.516143,
          0.59825945,
          5.8441567,
          0.59455496,
          2.7425299,
          -3.0591753,
          -4.690864,
          -12.739409,
          -7.6637406,
          -7.107055,
          -15.770954,
          -7.857566,
          -3.0014799,
          0.90573937,
          5.8771343,
          2.9649947,
          -0.9707136,
          -5.6872444,
          5.663074,
          1.8695602,
          -6.7151384,
          1.6819887,
          -15.571631,
          10.507005,
          7.6945863,
          -0.038722474,
          -6.8422503,
          -15.17158,
          -14.062867,
          9.46491,
          -6.338324,
          3.133173,
          -11.932734,
          0.7735361,
          -13.274097,
          -11.685442,
          4.4744883,
          5.261592,
          -4.826632,
          -13.592765,
          -3.9401724,
          4.2336216,
          -10.174957,
          0.8834435,
          10.988346,
          7.032862,
          4.33998,
          -6.9838085,
          8.949128,
          2.706131,
          1.5489864,
          4.27755,
          -2.6663547,
          10.005117,
          -3.6717942,
          5.3828897,
          -7.8915563,
          -8.484356,
          -9.522997,
          -16.288015,
          10.867823,
          2.7037618,
          1.7895101,
          -5.6917644,
          6.7812304,
          9.2826605,
          9.516577,
          -1.8073746,
          -11.505732,
          7.676787,
          -1.0046498,
          -12.55529,
          1.6512091,
          -7.911688,
          -8.878855,
          -14.868633,
          4.882497,
          -8.119055,
          4.2162123,
          -7.5896544,
          3.646102,
          5.290714,
          0.62789774,
          -14.826561,
          -1.6998649,
          -3.8652108,
          -15.079721,
          1.2757274,
          6.313811,
          -10.429165,
          -3.2982278,
          0.63963956,
          -2.274408,
          0.7984931,
          11.474453,
          -6.7861547,
          9.2222805,
          1.1409085,
          -9.425073,
          5.708935,
          2.5549364,
          10.397908,
          2.5074186,
          9.964918,
          3.137065,
          11.213521,
          -4.5850616,
          -4.756982,
          7.5943947,
          3.7887065,
          7.387726,
          9.527226,
          8.593372,
          5.591617,
          12.499946,
          -7.6351495,
          7.7641015,
          6.2204847,
          -8.547363,
          -1.9244119,
          -8.9561615,
          -5.883777,
          -14.387484,
          -0.42239246,
          4.329031,
          10.001834,
          -13.09887,
          10.484204,
          -0.33548176,
          -3.5584638,
          1.7564642,
          0.20999284,
          7.867386,
          -1.4065756,
          -12.853064,
          4.0143566,
          -0.59229046,
          6.4008985,
          8.858764,
          -7.888571,
          9.718801,
          7.358543,
          1.588648,
          10.259134,
          2.2310536,
          8.832038,
          8.561925,
          -8.269227,
          -14.779618,
          -11.0291605,
          -15.544697,
          -2.5021782,
          8.522653,
          3.027035,
          -12.568438,
          -9.516259,
          -0.19290254,
          10.8520975,
          3.1485457,
          3.4934986,
          0.7066654,
          -0.91387445,
          6.8358226,
          3.1238308,
          -3.2677195,
          7.7761497,
          1.3256469,
          4.79912,
          -3.3660164,
          10.372641,
          0.22688648,
          4.0452905,
          7.7242746,
          6.684145,
          7.719367,
          9.7004595,
          -0.027460104,
          -2.2656312,
          6.857898,
          1.34718,
          -12.483541,
          -10.13447,
          -9.437427,
          -10.9913025,
          0.42170152,
          2.98987,
          1.9216899,
          -0.5515068,
          -9.451088,
          -2.2464561,
          -2.3746161,
          -4.203569,
          0.58984244,
          -2.4738023,
          6.2942805,
          9.319725,
          -7.859403,
          0.7502331,
          -12.427721,
          -3.1689284,
          8.505424,
          -15.0159445,
          -4.1688433,
          -12.207805,
          -4.962609,
          -4.33529,
          -2.0108192,
          10.098498,
          4.1448565,
          -8.143415,
          6.9391804,
          7.4258785,
          -13.65916,
          0.006887071,
          -17.00759,
          -5.30284,
          -8.99016,
          -0.1476437,
          -11.242424,
          0.85773444,
          4.094037,
          1.7103893,
          11.257296,
          6.722016,
          6.083847,
          -4.345459,
          -8.382763,
          0.30554366,
          2.5849972,
          3.185327,
          -1.5614731,
          0.51668596,
          -8.23895,
          7.4635396,
          5.665921,
          10.878499,
          6.5531335,
          8.477191,
          5.909222,
          3.2048395,
          -9.698934,
          -3.7250195,
          -2.1018126,
          7.323464,
          -1.2790614,
          8.002996,
          11.404606,
          6.8739,
          6.202577,
          -3.9733076,
          2.2333844,
          -9.392247,
          4.6352754,
          -5.2649255,
          6.319302,
          -7.7209764,
          4.197979,
          9.738362,
          2.7354274,
          4.542878,
          3.155347,
          1.979269,
          4.525353,
          11.664161,
          10.25179,
          -12.944498,
          -12.6853485,
          -15.577736,
          0.72266924,
          2.6572344,
          -10.650349,
          -6.8591104,
          -1.9923705,
          -8.693355,
          9.327856,
          9.414999,
          -1.016369,
          -3.256822,
          1.0926304,
          0.15607086,
          2.835591,
          -0.7562099,
          -12.921802,
          -7.7320576,
          8.015135,
          5.182877,
          3.6399226,
          -7.698093,
          2.6399078,
          -8.369675,
          12.1747675,
          5.712464,
          -8.224424,
          2.913898,
          -9.038773,
          5.210174,
          10.765528,
          8.23882,
          5.114993,
          2.0366704,
          -4.479881,
          -2.2820044,
          -3.4542985,
          0.95730793,
          9.72108,
          -13.434304,
          -15.7740555,
          -15.193333,
          1.4136328,
          1.208535,
          -10.152053,
          -9.175657,
          2.1550152,
          -10.963348,
          -15.417235,
          -14.0860405,
          11.265777,
          -7.2210927,
          2.8639674,
          9.81539,
          -5.612859,
          8.779887,
          11.383958,
          1.3250545,
          -7.9475865,
          -12.25086,
          -1.4739854,
          0.6140204,
          4.8844857,
          4.137968,
          -3.8240178,
          0.36555755,
          8.264714,
          -8.775431,
          10.2345705,
          10.3558035,
          -6.269204,
          8.126134,
          -7.2564073,
          -12.044379,
          -6.5647745,
          -1.1418946,
          7.4776764,
          -10.993242,
          1.2068955,
          0.67445177,
          2.716777,
          -14.944219,
          -9.912016,
          -12.7503,
          10.06007,
          6.520412,
          -12.984291,
          -16.908592,
          3.2585888,
          -1.997938,
          7.730104,
          -14.016302,
          -12.194898,
          7.3551,
          -11.198974,
          1.6197048,
          -14.78156,
          11.412096,
          11.098964,
          -0.28492555,
          -6.0681853,
          -14.018929,
          4.3548393,
          0.7106117,
          0.21792397,
          1.1621363,
          10.139894,
          -8.796619,
          5.536001,
          -1.6338779,
          4.774854,
          11.060231,
          2.2444532,
          -4.8743305,
          2.932449,
          -14.891778,
          -11.699562,
          7.05214,
          -5.5157685,
          5.7582855,
          6.092459,
          4.7825108,
          8.299134,
          7.988192,
          -7.913835,
          -15.758005,
          6.1757107,
          4.5519323,
          -3.5511086,
          10.925111,
          -13.458558,
          -12.987764,
          1.7046229,
          4.215781,
          -12.9747305,
          -0.04321932,
          2.4533598,
          -7.414984,
          6.2064824,
          -4.5287423,
          -7.5181518,
          7.4631853,
          -1.2683214,
          -13.715104,
          -3.1254122,
          8.49047,
          6.558635,
          8.200985,
          9.6493435,
          7.854619,
          -14.130699,
          -13.077075,
          -0.1760608,
          9.85028,
          -10.159495,
          -2.4711254,
          -13.659306,
          1.1690881,
          6.4416156,
          2.9733753,
          12.407988,
          -13.639338,
          1.4892752,
          -10.666861,
          -12.568829,
          -0.13190824,
          -13.889477,
          5.9527006,
          10.6800375,
          8.551881,
          -12.363709,
          6.974455,
          -13.187901,
          6.132828,
          -1.7285138,
          4.943502,
          -13.6937,
          8.7205925,
          0.18705066,
          -2.852972,
          2.453201,
          -6.7051406,
          -6.7809668,
          -14.077066,
          -17.700277,
          -9.634405,
          7.0010786,
          6.196349,
          11.3861475,
          -10.180151,
          1.2578926,
          -8.675345,
          1.3826036,
          -5.170121,
          3.4900663,
          -3.3838847,
          -9.750955,
          3.9356065,
          -12.155414,
          -9.093553,
          7.180178,
          0.7878999,
          0.6126108,
          6.505703,
          -1.4348038,
          0.413289,
          5.903976,
          -15.167287,
          -5.3452992,
          7.0710087,
          9.055439,
          -2.9575222,
          -13.360953,
          4.50002,
          0.21152458,
          1.9647704,
          -13.375633,
          2.0526047,
          -7.8895655,
          -6.0690155,
          8.701747,
          11.885784,
          10.609104,
          -10.162182,
          11.849869,
          -2.2908096,
          -10.46907,
          7.079007,
          -13.722214,
          10.086673,
          -6.7716117,
          1.7958988,
          6.7307467,
          -7.4633193,
          -0.5676661,
          4.407249,
          3.994424,
          6.7885895,
          -3.6784468,
          -3.1465507,
          -6.7756944,
          9.237434,
          8.468755,
          -4.5793595,
          -0.760574,
          -15.144155,
          10.419334,
          -15.857976,
          0.35318,
          -16.278225,
          -13.414666,
          6.8077216,
          10.298583,
          -6.47948,
          0.18475243,
          6.276509,
          9.039503,
          0.45169646,
          6.822708,
          11.444516,
          2.2397888,
          2.331223,
          1.8235366,
          10.881107,
          2.9719918,
          -7.674168,
          -15.346626,
          -8.345879,
          4.144035,
          8.327059,
          -13.901325,
          1.2184949,
          -0.8039423,
          1.186285,
          -15.621269,
          -8.658105,
          -7.947297,
          -10.6301985,
          7.810186,
          8.550994,
          0.9468055,
          -2.0428693,
          7.6227727,
          1.143014,
          -9.860477,
          -15.337276,
          9.076271,
          1.7715515,
          2.7268515,
          2.0701106,
          6.630474,
          9.251925,
          -4.169868,
          8.017108,
          -14.6707,
          -17.34351,
          -6.6354346,
          1.38766,
          -7.4967957,
          -2.3118863,
          -13.657223,
          6.0630136,
          -4.399604
         ]
        }
       ],
       "layout": {
        "coloraxis": {
         "colorbar": {
          "title": {
           "text": "Anomaly"
          }
         },
         "colorscale": [
          [
           0,
           "#0d0887"
          ],
          [
           0.1111111111111111,
           "#46039f"
          ],
          [
           0.2222222222222222,
           "#7201a8"
          ],
          [
           0.3333333333333333,
           "#9c179e"
          ],
          [
           0.4444444444444444,
           "#bd3786"
          ],
          [
           0.5555555555555556,
           "#d8576b"
          ],
          [
           0.6666666666666666,
           "#ed7953"
          ],
          [
           0.7777777777777778,
           "#fb9f3a"
          ],
          [
           0.8888888888888888,
           "#fdca26"
          ],
          [
           1,
           "#f0f921"
          ]
         ]
        },
        "height": 800,
        "legend": {
         "tracegroupgap": 0
        },
        "scene": {
         "domain": {
          "x": [
           0,
           1
          ],
          "y": [
           0,
           1
          ]
         },
         "xaxis": {
          "title": {
           "text": "0"
          }
         },
         "yaxis": {
          "title": {
           "text": "1"
          }
         },
         "zaxis": {
          "title": {
           "text": "2"
          }
         }
        },
        "template": {
         "data": {
          "bar": [
           {
            "error_x": {
             "color": "#2a3f5f"
            },
            "error_y": {
             "color": "#2a3f5f"
            },
            "marker": {
             "line": {
              "color": "#E5ECF6",
              "width": 0.5
             },
             "pattern": {
              "fillmode": "overlay",
              "size": 10,
              "solidity": 0.2
             }
            },
            "type": "bar"
           }
          ],
          "barpolar": [
           {
            "marker": {
             "line": {
              "color": "#E5ECF6",
              "width": 0.5
             },
             "pattern": {
              "fillmode": "overlay",
              "size": 10,
              "solidity": 0.2
             }
            },
            "type": "barpolar"
           }
          ],
          "carpet": [
           {
            "aaxis": {
             "endlinecolor": "#2a3f5f",
             "gridcolor": "white",
             "linecolor": "white",
             "minorgridcolor": "white",
             "startlinecolor": "#2a3f5f"
            },
            "baxis": {
             "endlinecolor": "#2a3f5f",
             "gridcolor": "white",
             "linecolor": "white",
             "minorgridcolor": "white",
             "startlinecolor": "#2a3f5f"
            },
            "type": "carpet"
           }
          ],
          "choropleth": [
           {
            "colorbar": {
             "outlinewidth": 0,
             "ticks": ""
            },
            "type": "choropleth"
           }
          ],
          "contour": [
           {
            "colorbar": {
             "outlinewidth": 0,
             "ticks": ""
            },
            "colorscale": [
             [
              0,
              "#0d0887"
             ],
             [
              0.1111111111111111,
              "#46039f"
             ],
             [
              0.2222222222222222,
              "#7201a8"
             ],
             [
              0.3333333333333333,
              "#9c179e"
             ],
             [
              0.4444444444444444,
              "#bd3786"
             ],
             [
              0.5555555555555556,
              "#d8576b"
             ],
             [
              0.6666666666666666,
              "#ed7953"
             ],
             [
              0.7777777777777778,
              "#fb9f3a"
             ],
             [
              0.8888888888888888,
              "#fdca26"
             ],
             [
              1,
              "#f0f921"
             ]
            ],
            "type": "contour"
           }
          ],
          "contourcarpet": [
           {
            "colorbar": {
             "outlinewidth": 0,
             "ticks": ""
            },
            "type": "contourcarpet"
           }
          ],
          "heatmap": [
           {
            "colorbar": {
             "outlinewidth": 0,
             "ticks": ""
            },
            "colorscale": [
             [
              0,
              "#0d0887"
             ],
             [
              0.1111111111111111,
              "#46039f"
             ],
             [
              0.2222222222222222,
              "#7201a8"
             ],
             [
              0.3333333333333333,
              "#9c179e"
             ],
             [
              0.4444444444444444,
              "#bd3786"
             ],
             [
              0.5555555555555556,
              "#d8576b"
             ],
             [
              0.6666666666666666,
              "#ed7953"
             ],
             [
              0.7777777777777778,
              "#fb9f3a"
             ],
             [
              0.8888888888888888,
              "#fdca26"
             ],
             [
              1,
              "#f0f921"
             ]
            ],
            "type": "heatmap"
           }
          ],
          "heatmapgl": [
           {
            "colorbar": {
             "outlinewidth": 0,
             "ticks": ""
            },
            "colorscale": [
             [
              0,
              "#0d0887"
             ],
             [
              0.1111111111111111,
              "#46039f"
             ],
             [
              0.2222222222222222,
              "#7201a8"
             ],
             [
              0.3333333333333333,
              "#9c179e"
             ],
             [
              0.4444444444444444,
              "#bd3786"
             ],
             [
              0.5555555555555556,
              "#d8576b"
             ],
             [
              0.6666666666666666,
              "#ed7953"
             ],
             [
              0.7777777777777778,
              "#fb9f3a"
             ],
             [
              0.8888888888888888,
              "#fdca26"
             ],
             [
              1,
              "#f0f921"
             ]
            ],
            "type": "heatmapgl"
           }
          ],
          "histogram": [
           {
            "marker": {
             "pattern": {
              "fillmode": "overlay",
              "size": 10,
              "solidity": 0.2
             }
            },
            "type": "histogram"
           }
          ],
          "histogram2d": [
           {
            "colorbar": {
             "outlinewidth": 0,
             "ticks": ""
            },
            "colorscale": [
             [
              0,
              "#0d0887"
             ],
             [
              0.1111111111111111,
              "#46039f"
             ],
             [
              0.2222222222222222,
              "#7201a8"
             ],
             [
              0.3333333333333333,
              "#9c179e"
             ],
             [
              0.4444444444444444,
              "#bd3786"
             ],
             [
              0.5555555555555556,
              "#d8576b"
             ],
             [
              0.6666666666666666,
              "#ed7953"
             ],
             [
              0.7777777777777778,
              "#fb9f3a"
             ],
             [
              0.8888888888888888,
              "#fdca26"
             ],
             [
              1,
              "#f0f921"
             ]
            ],
            "type": "histogram2d"
           }
          ],
          "histogram2dcontour": [
           {
            "colorbar": {
             "outlinewidth": 0,
             "ticks": ""
            },
            "colorscale": [
             [
              0,
              "#0d0887"
             ],
             [
              0.1111111111111111,
              "#46039f"
             ],
             [
              0.2222222222222222,
              "#7201a8"
             ],
             [
              0.3333333333333333,
              "#9c179e"
             ],
             [
              0.4444444444444444,
              "#bd3786"
             ],
             [
              0.5555555555555556,
              "#d8576b"
             ],
             [
              0.6666666666666666,
              "#ed7953"
             ],
             [
              0.7777777777777778,
              "#fb9f3a"
             ],
             [
              0.8888888888888888,
              "#fdca26"
             ],
             [
              1,
              "#f0f921"
             ]
            ],
            "type": "histogram2dcontour"
           }
          ],
          "mesh3d": [
           {
            "colorbar": {
             "outlinewidth": 0,
             "ticks": ""
            },
            "type": "mesh3d"
           }
          ],
          "parcoords": [
           {
            "line": {
             "colorbar": {
              "outlinewidth": 0,
              "ticks": ""
             }
            },
            "type": "parcoords"
           }
          ],
          "pie": [
           {
            "automargin": true,
            "type": "pie"
           }
          ],
          "scatter": [
           {
            "fillpattern": {
             "fillmode": "overlay",
             "size": 10,
             "solidity": 0.2
            },
            "type": "scatter"
           }
          ],
          "scatter3d": [
           {
            "line": {
             "colorbar": {
              "outlinewidth": 0,
              "ticks": ""
             }
            },
            "marker": {
             "colorbar": {
              "outlinewidth": 0,
              "ticks": ""
             }
            },
            "type": "scatter3d"
           }
          ],
          "scattercarpet": [
           {
            "marker": {
             "colorbar": {
              "outlinewidth": 0,
              "ticks": ""
             }
            },
            "type": "scattercarpet"
           }
          ],
          "scattergeo": [
           {
            "marker": {
             "colorbar": {
              "outlinewidth": 0,
              "ticks": ""
             }
            },
            "type": "scattergeo"
           }
          ],
          "scattergl": [
           {
            "marker": {
             "colorbar": {
              "outlinewidth": 0,
              "ticks": ""
             }
            },
            "type": "scattergl"
           }
          ],
          "scattermapbox": [
           {
            "marker": {
             "colorbar": {
              "outlinewidth": 0,
              "ticks": ""
             }
            },
            "type": "scattermapbox"
           }
          ],
          "scatterpolar": [
           {
            "marker": {
             "colorbar": {
              "outlinewidth": 0,
              "ticks": ""
             }
            },
            "type": "scatterpolar"
           }
          ],
          "scatterpolargl": [
           {
            "marker": {
             "colorbar": {
              "outlinewidth": 0,
              "ticks": ""
             }
            },
            "type": "scatterpolargl"
           }
          ],
          "scatterternary": [
           {
            "marker": {
             "colorbar": {
              "outlinewidth": 0,
              "ticks": ""
             }
            },
            "type": "scatterternary"
           }
          ],
          "surface": [
           {
            "colorbar": {
             "outlinewidth": 0,
             "ticks": ""
            },
            "colorscale": [
             [
              0,
              "#0d0887"
             ],
             [
              0.1111111111111111,
              "#46039f"
             ],
             [
              0.2222222222222222,
              "#7201a8"
             ],
             [
              0.3333333333333333,
              "#9c179e"
             ],
             [
              0.4444444444444444,
              "#bd3786"
             ],
             [
              0.5555555555555556,
              "#d8576b"
             ],
             [
              0.6666666666666666,
              "#ed7953"
             ],
             [
              0.7777777777777778,
              "#fb9f3a"
             ],
             [
              0.8888888888888888,
              "#fdca26"
             ],
             [
              1,
              "#f0f921"
             ]
            ],
            "type": "surface"
           }
          ],
          "table": [
           {
            "cells": {
             "fill": {
              "color": "#EBF0F8"
             },
             "line": {
              "color": "white"
             }
            },
            "header": {
             "fill": {
              "color": "#C8D4E3"
             },
             "line": {
              "color": "white"
             }
            },
            "type": "table"
           }
          ]
         },
         "layout": {
          "annotationdefaults": {
           "arrowcolor": "#2a3f5f",
           "arrowhead": 0,
           "arrowwidth": 1
          },
          "autotypenumbers": "strict",
          "coloraxis": {
           "colorbar": {
            "outlinewidth": 0,
            "ticks": ""
           }
          },
          "colorscale": {
           "diverging": [
            [
             0,
             "#8e0152"
            ],
            [
             0.1,
             "#c51b7d"
            ],
            [
             0.2,
             "#de77ae"
            ],
            [
             0.3,
             "#f1b6da"
            ],
            [
             0.4,
             "#fde0ef"
            ],
            [
             0.5,
             "#f7f7f7"
            ],
            [
             0.6,
             "#e6f5d0"
            ],
            [
             0.7,
             "#b8e186"
            ],
            [
             0.8,
             "#7fbc41"
            ],
            [
             0.9,
             "#4d9221"
            ],
            [
             1,
             "#276419"
            ]
           ],
           "sequential": [
            [
             0,
             "#0d0887"
            ],
            [
             0.1111111111111111,
             "#46039f"
            ],
            [
             0.2222222222222222,
             "#7201a8"
            ],
            [
             0.3333333333333333,
             "#9c179e"
            ],
            [
             0.4444444444444444,
             "#bd3786"
            ],
            [
             0.5555555555555556,
             "#d8576b"
            ],
            [
             0.6666666666666666,
             "#ed7953"
            ],
            [
             0.7777777777777778,
             "#fb9f3a"
            ],
            [
             0.8888888888888888,
             "#fdca26"
            ],
            [
             1,
             "#f0f921"
            ]
           ],
           "sequentialminus": [
            [
             0,
             "#0d0887"
            ],
            [
             0.1111111111111111,
             "#46039f"
            ],
            [
             0.2222222222222222,
             "#7201a8"
            ],
            [
             0.3333333333333333,
             "#9c179e"
            ],
            [
             0.4444444444444444,
             "#bd3786"
            ],
            [
             0.5555555555555556,
             "#d8576b"
            ],
            [
             0.6666666666666666,
             "#ed7953"
            ],
            [
             0.7777777777777778,
             "#fb9f3a"
            ],
            [
             0.8888888888888888,
             "#fdca26"
            ],
            [
             1,
             "#f0f921"
            ]
           ]
          },
          "colorway": [
           "#636efa",
           "#EF553B",
           "#00cc96",
           "#ab63fa",
           "#FFA15A",
           "#19d3f3",
           "#FF6692",
           "#B6E880",
           "#FF97FF",
           "#FECB52"
          ],
          "font": {
           "color": "#2a3f5f"
          },
          "geo": {
           "bgcolor": "white",
           "lakecolor": "white",
           "landcolor": "#E5ECF6",
           "showlakes": true,
           "showland": true,
           "subunitcolor": "white"
          },
          "hoverlabel": {
           "align": "left"
          },
          "hovermode": "closest",
          "mapbox": {
           "style": "light"
          },
          "paper_bgcolor": "white",
          "plot_bgcolor": "#E5ECF6",
          "polar": {
           "angularaxis": {
            "gridcolor": "white",
            "linecolor": "white",
            "ticks": ""
           },
           "bgcolor": "#E5ECF6",
           "radialaxis": {
            "gridcolor": "white",
            "linecolor": "white",
            "ticks": ""
           }
          },
          "scene": {
           "xaxis": {
            "backgroundcolor": "#E5ECF6",
            "gridcolor": "white",
            "gridwidth": 2,
            "linecolor": "white",
            "showbackground": true,
            "ticks": "",
            "zerolinecolor": "white"
           },
           "yaxis": {
            "backgroundcolor": "#E5ECF6",
            "gridcolor": "white",
            "gridwidth": 2,
            "linecolor": "white",
            "showbackground": true,
            "ticks": "",
            "zerolinecolor": "white"
           },
           "zaxis": {
            "backgroundcolor": "#E5ECF6",
            "gridcolor": "white",
            "gridwidth": 2,
            "linecolor": "white",
            "showbackground": true,
            "ticks": "",
            "zerolinecolor": "white"
           }
          },
          "shapedefaults": {
           "line": {
            "color": "#2a3f5f"
           }
          },
          "ternary": {
           "aaxis": {
            "gridcolor": "white",
            "linecolor": "white",
            "ticks": ""
           },
           "baxis": {
            "gridcolor": "white",
            "linecolor": "white",
            "ticks": ""
           },
           "bgcolor": "#E5ECF6",
           "caxis": {
            "gridcolor": "white",
            "linecolor": "white",
            "ticks": ""
           }
          },
          "title": {
           "x": 0.05
          },
          "xaxis": {
           "automargin": true,
           "gridcolor": "white",
           "linecolor": "white",
           "ticks": "",
           "title": {
            "standoff": 15
           },
           "zerolinecolor": "white",
           "zerolinewidth": 2
          },
          "yaxis": {
           "automargin": true,
           "gridcolor": "white",
           "linecolor": "white",
           "ticks": "",
           "title": {
            "standoff": 15
           },
           "zerolinecolor": "white",
           "zerolinewidth": 2
          }
         }
        },
        "title": {
         "text": "3d TSNE Plot for Outliers"
        },
        "width": 900
       }
      }
     },
     "metadata": {},
     "output_type": "display_data"
    }
   ],
   "source": [
    "\n",
    "plot_model(knn, plot = 'tsne')\n"
   ]
  },
  {
   "cell_type": "code",
   "execution_count": null,
   "metadata": {},
   "outputs": [],
   "source": []
  },
  {
   "cell_type": "code",
   "execution_count": 28,
   "metadata": {},
   "outputs": [],
   "source": [
    "\n"
   ]
  }
 ],
 "metadata": {
  "kernelspec": {
   "display_name": ".venv",
   "language": "python",
   "name": "python3"
  },
  "language_info": {
   "codemirror_mode": {
    "name": "ipython",
    "version": 3
   },
   "file_extension": ".py",
   "mimetype": "text/x-python",
   "name": "python",
   "nbconvert_exporter": "python",
   "pygments_lexer": "ipython3",
   "version": "3.10.4 (tags/v3.10.4:9d38120, Mar 23 2022, 23:13:41) [MSC v.1929 64 bit (AMD64)]"
  },
  "orig_nbformat": 4,
  "vscode": {
   "interpreter": {
    "hash": "b2c20619b50af760a2f88257a030ac5a2583aef6838a6022e2599b3084a5c1ec"
   }
  }
 },
 "nbformat": 4,
 "nbformat_minor": 2
}
